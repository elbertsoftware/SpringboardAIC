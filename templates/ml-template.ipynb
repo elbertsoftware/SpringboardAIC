{
 "cells": [
  {
   "cell_type": "code",
   "execution_count": null,
   "metadata": {},
   "outputs": [],
   "source": [
    "import numpy as np\n",
    "\n",
    "import matplotlib.pyplot as plt\n",
    "%matplotlib inline\n",
    "\n",
    "import pandas as pd\n",
    "\n",
    "# Set Jupyter notebook display options\n",
    "pd.options.display.max_rows = 8\n",
    "pd.options.display.max_columns = 8\n",
    "\n",
    "# Check version number\n",
    "pd.__version__\n",
    "\n",
    "# Constructure a date\n",
    "start = pd.Timestamp('2018-1-1')\n",
    "end = pd.Timestamp('2018-12-31')"
   ]
  },
  {
   "cell_type": "code",
   "execution_count": null,
   "metadata": {},
   "outputs": [],
   "source": [
    "# Read data using DataReader\n",
    "from pandas_datareader import data as pd_data\n",
    "\n",
    "google = pd_data.DataReader(\"GOOG\", 'iex', start, end)\n",
    "\n",
    "# Write data to CSV file\n",
    "google.to_csv('google.csv', index=True, encoding='utf-8')"
   ]
  },
  {
   "cell_type": "code",
   "execution_count": null,
   "metadata": {},
   "outputs": [],
   "source": [
    "# Read data using QuanDL\n",
    "import quandl\n",
    "\n",
    "zeiss = quandl.get(\"FSE/AFX_X\", authtoken=\"VHstzZDzTg_hokZ4xq4J\", start_date=start, end_date=end)\n",
    "\n",
    "# Write data to Excel file (Install writer engine: openpyxl)\n",
    "with pd.ExcelWriter('zeiss.xlsx') as writer:\n",
    "    zeiss.to_excel(writer, sheet_name='Carl Zeiss Meditec')\n",
    "    writer.save()"
   ]
  },
  {
   "cell_type": "code",
   "execution_count": null,
   "metadata": {},
   "outputs": [],
   "source": [
    "# Read JSON data using Requests\n",
    "import requests\n",
    "import json\n",
    "import pprint\n",
    "\n",
    "response = requests.get('https://www.quandl.com/api/v3/datasets/FSE/AFX_X.json?api_key=VHstzZDzTg_hokZ4xq4J&start_date=2017-01-01&end_date=2017-12-31')\n",
    "json_response = response.json()\n",
    "pprint.pprint(json_response)"
   ]
  },
  {
   "cell_type": "code",
   "execution_count": null,
   "metadata": {},
   "outputs": [],
   "source": [
    "# Read CSV file\n",
    "google = pd.read_csv('google.csv', \n",
    "                     na_values='n/a', \n",
    "                     parse_dates=True, \n",
    "                     index_col='date', \n",
    "                     encoding='utf-8')\n",
    "google.info()"
   ]
  },
  {
   "cell_type": "code",
   "execution_count": null,
   "metadata": {},
   "outputs": [],
   "source": [
    "# Read Excel file (Install reader engine: xlrd)\n",
    "excel = pd.ExcelFile('zeiss.xlsx')\n",
    "zeiss = pd.read_excel(excel, \n",
    "                      sheet_name=excel.sheet_names[0], \n",
    "                      na_values='n/a', \n",
    "                      parse_dates=['Date'], \n",
    "                      index_col='Date', \n",
    "                      encoding='utf-8')\n",
    "zeiss.info()"
   ]
  },
  {
   "cell_type": "code",
   "execution_count": null,
   "metadata": {},
   "outputs": [],
   "source": [
    "# Time a command execution\n",
    "%timeit print('Hello World!')"
   ]
  }
 ],
 "metadata": {
  "kernelspec": {
   "display_name": "Python 3",
   "language": "python",
   "name": "python3"
  },
  "language_info": {
   "codemirror_mode": {
    "name": "ipython",
    "version": 3
   },
   "file_extension": ".py",
   "mimetype": "text/x-python",
   "name": "python",
   "nbconvert_exporter": "python",
   "pygments_lexer": "ipython3",
   "version": "3.6.8"
  }
 },
 "nbformat": 4,
 "nbformat_minor": 2
}
