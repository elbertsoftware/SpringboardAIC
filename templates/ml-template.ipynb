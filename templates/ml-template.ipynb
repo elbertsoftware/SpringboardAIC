{
 "cells": [
  {
   "cell_type": "code",
   "execution_count": 19,
   "metadata": {},
   "outputs": [],
   "source": [
    "import numpy as np\n",
    "\n",
    "import matplotlib.pyplot as plt\n",
    "%matplotlib inline\n",
    "\n",
    "import pandas as pd\n",
    "\n",
    "# Set Jupyter notebook display options\n",
    "pd.options.display.max_rows = 8\n",
    "pd.options.display.max_columns = 8\n",
    "\n",
    "# Check version number\n",
    "pd.__version__\n",
    "\n",
    "# Constructure a date\n",
    "start = pd.Timestamp('2018-1-1')\n",
    "end = pd.Timestamp('2018-12-31')"
   ]
  },
  {
   "cell_type": "code",
   "execution_count": 25,
   "metadata": {},
   "outputs": [],
   "source": [
    "# Read data using DataReader\n",
    "from pandas_datareader import data as pd_data\n",
    "\n",
    "google = pd_data.DataReader(\"GOOG\", 'iex', start, end)\n",
    "\n",
    "# Write data to CSV file\n",
    "google.to_csv('google.csv', index=True, encoding='utf-8')"
   ]
  },
  {
   "cell_type": "code",
   "execution_count": 26,
   "metadata": {},
   "outputs": [],
   "source": [
    "# Read data using QuanDL\n",
    "import quandl\n",
    "\n",
    "zeiss = quandl.get(\"FSE/AFX_X\", authtoken=\"VHstzZDzTg_hokZ4xq4J\", start_date=start, end_date=end)\n",
    "\n",
    "# Write data to Excel file (Install writer engine: openpyxl)\n",
    "with pd.ExcelWriter('zeiss.xlsx') as writer:\n",
    "    zeiss.to_excel(writer, sheet_name='Carl Zeiss Meditec')\n",
    "    writer.save()"
   ]
  },
  {
   "cell_type": "code",
   "execution_count": null,
   "metadata": {},
   "outputs": [],
   "source": [
    "# Read JSON data using Requests\n",
    "import requests\n",
    "import json\n",
    "import pprint\n",
    "\n",
    "response = requests.get('https://www.quandl.com/api/v3/datasets/FSE/AFX_X.json?api_key=VHstzZDzTg_hokZ4xq4J&start_date=2017-01-01&end_date=2017-12-31')\n",
    "json_response = response.json()\n",
    "pprint.pprint(json_response)"
   ]
  },
  {
   "cell_type": "code",
   "execution_count": 27,
   "metadata": {},
   "outputs": [
    {
     "name": "stdout",
     "output_type": "stream",
     "text": [
      "<class 'pandas.core.frame.DataFrame'>\n",
      "RangeIndex: 251 entries, 0 to 250\n",
      "Data columns (total 6 columns):\n",
      "date      251 non-null datetime64[ns]\n",
      "open      251 non-null float64\n",
      "high      251 non-null float64\n",
      "low       251 non-null float64\n",
      "close     251 non-null float64\n",
      "volume    251 non-null int64\n",
      "dtypes: datetime64[ns](1), float64(4), int64(1)\n",
      "memory usage: 11.8 KB\n"
     ]
    }
   ],
   "source": [
    "# Read CSV file\n",
    "google = pd.read_csv('google.csv', na_values='n/a', parse_dates=['date'])\n",
    "google.info()"
   ]
  },
  {
   "cell_type": "code",
   "execution_count": 28,
   "metadata": {},
   "outputs": [
    {
     "name": "stdout",
     "output_type": "stream",
     "text": [
      "<class 'pandas.core.frame.DataFrame'>\n",
      "RangeIndex: 242 entries, 0 to 241\n",
      "Data columns (total 11 columns):\n",
      "Date                     242 non-null datetime64[ns]\n",
      "Open                     1 non-null float64\n",
      "High                     242 non-null float64\n",
      "Low                      242 non-null float64\n",
      "Close                    242 non-null float64\n",
      "Change                   0 non-null float64\n",
      "Traded Volume            226 non-null float64\n",
      "Turnover                 226 non-null float64\n",
      "Last Price of the Day    0 non-null float64\n",
      "Daily Traded Units       0 non-null float64\n",
      "Daily Turnover           0 non-null float64\n",
      "dtypes: datetime64[ns](1), float64(10)\n",
      "memory usage: 20.9 KB\n"
     ]
    }
   ],
   "source": [
    "# Read Excel file (Install reader engine: xlrd)\n",
    "excel = pd.ExcelFile('zeiss.xlsx')\n",
    "zeiss = pd.read_excel(excel, sheet_name=excel.sheet_names[0], na_values='n/a', parse_dates=['Date'])\n",
    "zeiss.info()"
   ]
  }
 ],
 "metadata": {
  "kernelspec": {
   "display_name": "Python 3",
   "language": "python",
   "name": "python3"
  },
  "language_info": {
   "codemirror_mode": {
    "name": "ipython",
    "version": 3
   },
   "file_extension": ".py",
   "mimetype": "text/x-python",
   "name": "python",
   "nbconvert_exporter": "python",
   "pygments_lexer": "ipython3",
   "version": "3.6.8"
  }
 },
 "nbformat": 4,
 "nbformat_minor": 2
}
