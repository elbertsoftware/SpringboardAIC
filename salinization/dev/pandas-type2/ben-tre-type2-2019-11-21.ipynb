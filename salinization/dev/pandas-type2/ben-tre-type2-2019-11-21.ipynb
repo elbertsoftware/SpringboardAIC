{
 "cells": [
  {
   "cell_type": "markdown",
   "metadata": {},
   "source": [
    "## Run the following cells for either Experiment Code or Full Run"
   ]
  },
  {
   "cell_type": "code",
   "execution_count": 1,
   "metadata": {
    "colab": {
     "base_uri": "https://localhost:8080/",
     "height": 141
    },
    "colab_type": "code",
    "id": "DXo5cIRgicNT",
    "outputId": "8b835a87-cf3a-410f-8852-1e723d7be6c8"
   },
   "outputs": [],
   "source": [
    "import numpy as np\n",
    "import pandas as pd\n",
    "import unidecode"
   ]
  },
  {
   "cell_type": "code",
   "execution_count": 2,
   "metadata": {
    "colab": {},
    "colab_type": "code",
    "id": "PlW0MFHVVhxx"
   },
   "outputs": [],
   "source": [
    "# configure df options\n",
    "pd.set_option('display.max_rows', 10)\n",
    "pd.set_option('display.max_columns', 10)\n",
    "pd.set_option('display.width', 20)"
   ]
  },
  {
   "cell_type": "code",
   "execution_count": 3,
   "metadata": {},
   "outputs": [],
   "source": [
    "input_path = '../../dataset/bentre'\n",
    "input_files = {\n",
    "    'So Lieu Man Ben Tre 2016.xlsx': [0, 1, 3, 4, 6, 7],\n",
    "}"
   ]
  },
  {
   "cell_type": "code",
   "execution_count": 4,
   "metadata": {},
   "outputs": [],
   "source": [
    "output_path = '../../dataset/csv/type2'"
   ]
  },
  {
   "cell_type": "code",
   "execution_count": 5,
   "metadata": {},
   "outputs": [],
   "source": [
    "output_columns = [\n",
    "    'code',\n",
    "    'date',\n",
    "    'time',\n",
    "    'min',\n",
    "    'max',\n",
    "    'h01',\n",
    "    'h03',\n",
    "    'h05',\n",
    "    'h07',\n",
    "    'h09',\n",
    "    'h11',\n",
    "    'h13',\n",
    "    'h15',\n",
    "    'h17',\n",
    "    'h19',\n",
    "    'h21',\n",
    "    'h23'\n",
    "]"
   ]
  },
  {
   "cell_type": "markdown",
   "metadata": {},
   "source": [
    "## Experiment Code"
   ]
  },
  {
   "cell_type": "code",
   "execution_count": null,
   "metadata": {},
   "outputs": [],
   "source": [
    "file = list(input_files.keys())[0]\n",
    "file"
   ]
  },
  {
   "cell_type": "code",
   "execution_count": null,
   "metadata": {},
   "outputs": [],
   "source": [
    "sheets = input_files[file]\n",
    "sheets"
   ]
  },
  {
   "cell_type": "code",
   "execution_count": null,
   "metadata": {},
   "outputs": [],
   "source": [
    "# read excel file\n",
    "filename = f'{input_path}/{file}'\n",
    "excel = pd.ExcelFile(filename)"
   ]
  },
  {
   "cell_type": "code",
   "execution_count": null,
   "metadata": {},
   "outputs": [],
   "source": [
    "# read a sheet\n",
    "df = pd.read_excel(excel, sheet_name=sheets[5])\n",
    "\n",
    "df.info()"
   ]
  },
  {
   "cell_type": "code",
   "execution_count": null,
   "metadata": {},
   "outputs": [],
   "source": [
    "df.head()"
   ]
  },
  {
   "cell_type": "code",
   "execution_count": null,
   "metadata": {},
   "outputs": [],
   "source": [
    "# extract station and convert it to station code\n",
    "station = df.iloc[2][0]\n",
    "station = station[station.find(':') + 1:].strip()\n",
    "station = unidecode.unidecode(station).upper().replace(' ', '')\n",
    "\n",
    "station"
   ]
  },
  {
   "cell_type": "code",
   "execution_count": null,
   "metadata": {},
   "outputs": [],
   "source": [
    "# extract year\n",
    "year = df.iloc[2][14]\n",
    "year = int(year[-4:])\n",
    "\n",
    "year"
   ]
  },
  {
   "cell_type": "code",
   "execution_count": null,
   "metadata": {},
   "outputs": [],
   "source": [
    "# use the 4th row as column names\n",
    "df.columns = df.iloc[3]\n",
    "\n",
    "df.head()"
   ]
  },
  {
   "cell_type": "code",
   "execution_count": null,
   "metadata": {},
   "outputs": [],
   "source": [
    "# drop non-data rows: first 4 ones\n",
    "df.drop([*range(4)], inplace=True)\n",
    "    \n",
    "df.head()"
   ]
  },
  {
   "cell_type": "code",
   "execution_count": null,
   "metadata": {},
   "outputs": [],
   "source": [
    "# drop BQ/Mean column\n",
    "df.drop(['BQ'], axis=1, errors='ignore', inplace=True)\n",
    "df.drop(['Mean'], axis=1, errors='ignore', inplace=True)\n",
    "    \n",
    "df.head()"
   ]
  },
  {
   "cell_type": "code",
   "execution_count": null,
   "metadata": {},
   "outputs": [],
   "source": [
    "# add station code column\n",
    "df.insert(0, output_columns[0], station)\n",
    "    \n",
    "df.head()"
   ]
  },
  {
   "cell_type": "code",
   "execution_count": null,
   "metadata": {},
   "outputs": [],
   "source": [
    "# add time column\n",
    "df.insert(2, output_columns[2], value=np.nan)\n",
    "\n",
    "df.head()"
   ]
  },
  {
   "cell_type": "code",
   "execution_count": null,
   "metadata": {},
   "outputs": [],
   "source": [
    "# rename columns\n",
    "df.rename(columns={\n",
    "        'Ngày/Giờ': output_columns[1], \n",
    "        'Date/Hour': output_columns[1], \n",
    "    \n",
    "        'Min': output_columns[3],\n",
    "        'Max': output_columns[4], \n",
    "        1.0: output_columns[5], \n",
    "        3.0: output_columns[6], \n",
    "        5.0: output_columns[7], \n",
    "        7.0: output_columns[8], \n",
    "        9.0: output_columns[9], \n",
    "        11.0: output_columns[10], \n",
    "        13.0: output_columns[11], \n",
    "        15.0: output_columns[12], \n",
    "        17.0: output_columns[13], \n",
    "        19.0: output_columns[14], \n",
    "        21.0: output_columns[15], \n",
    "        23.0: output_columns[16],\n",
    "    }, errors='ignore', inplace=True)\n",
    "    \n",
    "df.head()"
   ]
  },
  {
   "cell_type": "code",
   "execution_count": null,
   "metadata": {},
   "outputs": [],
   "source": [
    "# convert string based date to Python date\n",
    "df['date'] = pd.to_datetime(df['date']).dt.strftime('%Y-%m-%d')\n",
    "    \n",
    "df.head()"
   ]
  },
  {
   "cell_type": "code",
   "execution_count": null,
   "metadata": {},
   "outputs": [],
   "source": [
    "# drop all rows that have less than 3 columns filled out\n",
    "df.dropna(thresh=3, inplace=True)\n",
    "\n",
    "df.head()"
   ]
  },
  {
   "cell_type": "code",
   "execution_count": null,
   "metadata": {},
   "outputs": [],
   "source": [
    "# reorder columns\n",
    "df = df[output_columns]\n",
    "\n",
    "df.head()"
   ]
  },
  {
   "cell_type": "code",
   "execution_count": null,
   "metadata": {},
   "outputs": [],
   "source": [
    "# save to csv file\n",
    "df.to_csv(f'{output_path}/{year}-{station}.csv', index = False)"
   ]
  },
  {
   "cell_type": "markdown",
   "metadata": {},
   "source": [
    "## Full Run: Process all configured files and their sheets"
   ]
  },
  {
   "cell_type": "code",
   "execution_count": 6,
   "metadata": {},
   "outputs": [
    {
     "name": "stdout",
     "output_type": "stream",
     "text": [
      "Processing file: ../../dataset/bentre/So Lieu Man Ben Tre 2016.xlsx\n",
      "Processing sheet: 0\n",
      "Processing sheet: 1\n",
      "Processing sheet: 3\n",
      "Processing sheet: 4\n",
      "Processing sheet: 6\n",
      "Processing sheet: 7\n"
     ]
    }
   ],
   "source": [
    "for file in input_files.keys():\n",
    "    # read excel file\n",
    "    filename = f'{input_path}/{file}'\n",
    "    print(f'Processing file: {filename}')\n",
    "    \n",
    "    excel = pd.ExcelFile(filename)\n",
    "    \n",
    "    for sheet in input_files[file]:\n",
    "        print(f'Processing sheet: {sheet}')\n",
    "        \n",
    "        # read a sheet\n",
    "        df = pd.read_excel(excel, sheet_name=sheet)\n",
    "        \n",
    "        # extract station and convert it to station code\n",
    "        station = df.iloc[2][0]\n",
    "        station = station[station.find(':') + 1:].strip()\n",
    "        station = unidecode.unidecode(station).upper().replace(' ', '')\n",
    "        \n",
    "        # extract year\n",
    "        year = df.iloc[2][14]\n",
    "        year = int(year[-4:])\n",
    "        \n",
    "        # use the 4th row as column names\n",
    "        df.columns = df.iloc[3]\n",
    "        \n",
    "        # drop non-data rows: first 4 ones\n",
    "        df.drop([*range(4)], inplace=True)\n",
    "        \n",
    "        # drop BQ/Mean column\n",
    "        df.drop(['BQ'], axis=1, errors='ignore', inplace=True)\n",
    "        df.drop(['Mean'], axis=1, errors='ignore', inplace=True)        \n",
    "        \n",
    "        # add station code column\n",
    "        df.insert(0, output_columns[0], station)\n",
    "        \n",
    "        # add time column\n",
    "        df.insert(2, output_columns[2], value=np.nan)\n",
    "              \n",
    "        # rename columns\n",
    "        df.rename(columns={\n",
    "            'Ngày/Giờ': output_columns[1], \n",
    "            'Date/Hour': output_columns[1], \n",
    "            \n",
    "            'Min': output_columns[3],\n",
    "            'Max': output_columns[4], \n",
    "            1.0: output_columns[5], \n",
    "            3.0: output_columns[6], \n",
    "            5.0: output_columns[7], \n",
    "            7.0: output_columns[8], \n",
    "            9.0: output_columns[9], \n",
    "            11.0: output_columns[10], \n",
    "            13.0: output_columns[11], \n",
    "            15.0: output_columns[12], \n",
    "            17.0: output_columns[13], \n",
    "            19.0: output_columns[14], \n",
    "            21.0: output_columns[15], \n",
    "            23.0: output_columns[16], \n",
    "        }, errors='ignore', inplace=True)\n",
    "           \n",
    "        # convert string based date to Python date\n",
    "        df['date'] = pd.to_datetime(df['date']).dt.strftime('%Y-%m-%d')\n",
    "           \n",
    "        # drop all rows that have less than 3 columns filled out\n",
    "        df.dropna(thresh=3, inplace=True)\n",
    "            \n",
    "        # reorder columns\n",
    "        df = df[output_columns]\n",
    "      \n",
    "        # save to csv file\n",
    "        df.to_csv(f'{output_path}/{year}-{station}.csv', index = False)"
   ]
  }
 ],
 "metadata": {
  "colab": {
   "collapsed_sections": [],
   "name": "Type 2 So Lieu Ben Tre 2016 .ipynb",
   "provenance": []
  },
  "kernelspec": {
   "display_name": "Python 3",
   "language": "python",
   "name": "python3"
  },
  "language_info": {
   "codemirror_mode": {
    "name": "ipython",
    "version": 3
   },
   "file_extension": ".py",
   "mimetype": "text/x-python",
   "name": "python",
   "nbconvert_exporter": "python",
   "pygments_lexer": "ipython3",
   "version": "3.7.5"
  }
 },
 "nbformat": 4,
 "nbformat_minor": 1
}
