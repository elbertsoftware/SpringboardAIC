{
 "cells": [
  {
   "cell_type": "code",
   "execution_count": 1,
   "metadata": {
    "scrolled": false
   },
   "outputs": [],
   "source": [
    "import numpy as np\n",
    "import pandas as pd\n",
    "\n",
    "import matplotlib.pyplot as plt\n",
    "%matplotlib inline\n",
    "\n",
    "from statsmodels.tsa.arima_model import ARIMA"
   ]
  },
  {
   "cell_type": "code",
   "execution_count": 2,
   "metadata": {
    "scrolled": false
   },
   "outputs": [],
   "source": [
    "# configure df options\n",
    "pd.set_option('display.max_rows', None)\n",
    "pd.set_option('display.max_columns', None)\n",
    "pd.set_option('display.width', None)\n",
    "pd.set_option('display.max_colwidth', None)\n",
    "\n",
    "pd.options.display.float_format = '{:,.5f}'.format"
   ]
  },
  {
   "cell_type": "code",
   "execution_count": null,
   "metadata": {},
   "outputs": [],
   "source": [
    "#import warnings\n",
    "#warnings.filterwarnings(\"ignore\")"
   ]
  },
  {
   "cell_type": "code",
   "execution_count": 3,
   "metadata": {},
   "outputs": [],
   "source": [
    "df = pd.read_csv('../../dataset/final/training.csv', parse_dates=['date'])"
   ]
  },
  {
   "cell_type": "code",
   "execution_count": 4,
   "metadata": {},
   "outputs": [],
   "source": [
    "# set index to time-series based 'date'\n",
    "df.set_index('date',inplace=True)"
   ]
  },
  {
   "cell_type": "code",
   "execution_count": 5,
   "metadata": {
    "scrolled": false
   },
   "outputs": [
    {
     "data": {
      "text/plain": [
       "DatetimeIndex(['2002-01-01', '2002-01-01', '2002-01-01', '2002-01-01',\n",
       "               '2002-01-01', '2002-01-02', '2002-01-02', '2002-01-02',\n",
       "               '2002-01-02', '2002-01-02',\n",
       "               ...\n",
       "               '2018-05-31', '2018-05-31', '2018-05-31', '2018-05-31',\n",
       "               '2018-05-31', '2018-05-31', '2018-05-31', '2018-05-31',\n",
       "               '2018-05-31', '2018-05-31'],\n",
       "              dtype='datetime64[ns]', name='date', length=13500, freq=None)"
      ]
     },
     "execution_count": 5,
     "metadata": {},
     "output_type": "execute_result"
    }
   ],
   "source": [
    "df.index"
   ]
  },
  {
   "cell_type": "code",
   "execution_count": 6,
   "metadata": {},
   "outputs": [],
   "source": [
    "# can not set index frequency to D - daily due to missing discontinuous timestamps in the dataset\n",
    "# df.index.freq = 'D'\n",
    "# df.index"
   ]
  },
  {
   "cell_type": "code",
   "execution_count": 7,
   "metadata": {
    "scrolled": false
   },
   "outputs": [
    {
     "name": "stdout",
     "output_type": "stream",
     "text": [
      "<class 'pandas.core.frame.DataFrame'>\n",
      "DatetimeIndex: 13500 entries, 2002-01-01 to 2018-05-31\n",
      "Data columns (total 6 columns):\n",
      " #   Column  Non-Null Count  Dtype  \n",
      "---  ------  --------------  -----  \n",
      " 0   code    13500 non-null  object \n",
      " 1   min     13500 non-null  float64\n",
      " 2   max     13500 non-null  float64\n",
      " 3   x       13500 non-null  float64\n",
      " 4   y       13500 non-null  float64\n",
      " 5   cm      13500 non-null  float64\n",
      "dtypes: float64(5), object(1)\n",
      "memory usage: 738.3+ KB\n"
     ]
    }
   ],
   "source": [
    "df.info()"
   ]
  },
  {
   "cell_type": "code",
   "execution_count": 8,
   "metadata": {
    "scrolled": false
   },
   "outputs": [
    {
     "data": {
      "text/html": [
       "<div>\n",
       "<style scoped>\n",
       "    .dataframe tbody tr th:only-of-type {\n",
       "        vertical-align: middle;\n",
       "    }\n",
       "\n",
       "    .dataframe tbody tr th {\n",
       "        vertical-align: top;\n",
       "    }\n",
       "\n",
       "    .dataframe thead th {\n",
       "        text-align: right;\n",
       "    }\n",
       "</style>\n",
       "<table border=\"1\" class=\"dataframe\">\n",
       "  <thead>\n",
       "    <tr style=\"text-align: right;\">\n",
       "      <th></th>\n",
       "      <th>code</th>\n",
       "      <th>min</th>\n",
       "      <th>max</th>\n",
       "      <th>x</th>\n",
       "      <th>y</th>\n",
       "      <th>cm</th>\n",
       "    </tr>\n",
       "    <tr>\n",
       "      <th>date</th>\n",
       "      <th></th>\n",
       "      <th></th>\n",
       "      <th></th>\n",
       "      <th></th>\n",
       "      <th></th>\n",
       "      <th></th>\n",
       "    </tr>\n",
       "  </thead>\n",
       "  <tbody>\n",
       "    <tr>\n",
       "      <th>2002-01-01</th>\n",
       "      <td>ANTHUAN</td>\n",
       "      <td>3.50000</td>\n",
       "      <td>6.00000</td>\n",
       "      <td>106.57215</td>\n",
       "      <td>9.99752</td>\n",
       "      <td>0.00000</td>\n",
       "    </tr>\n",
       "    <tr>\n",
       "      <th>2002-01-01</th>\n",
       "      <td>LOCTHUAN</td>\n",
       "      <td>0.00000</td>\n",
       "      <td>0.00000</td>\n",
       "      <td>106.59743</td>\n",
       "      <td>10.24030</td>\n",
       "      <td>274.32000</td>\n",
       "    </tr>\n",
       "    <tr>\n",
       "      <th>2002-01-01</th>\n",
       "      <td>SONDOC</td>\n",
       "      <td>0.10000</td>\n",
       "      <td>0.30000</td>\n",
       "      <td>106.52635</td>\n",
       "      <td>10.02522</td>\n",
       "      <td>30.48000</td>\n",
       "    </tr>\n",
       "    <tr>\n",
       "      <th>2002-01-01</th>\n",
       "      <td>BENTRAI</td>\n",
       "      <td>0.20000</td>\n",
       "      <td>1.00000</td>\n",
       "      <td>106.53715</td>\n",
       "      <td>9.87584</td>\n",
       "      <td>0.00000</td>\n",
       "    </tr>\n",
       "    <tr>\n",
       "      <th>2002-01-01</th>\n",
       "      <td>BINHDAI</td>\n",
       "      <td>0.50000</td>\n",
       "      <td>2.00000</td>\n",
       "      <td>106.69681</td>\n",
       "      <td>10.20635</td>\n",
       "      <td>152.40000</td>\n",
       "    </tr>\n",
       "  </tbody>\n",
       "</table>\n",
       "</div>"
      ],
      "text/plain": [
       "                code     min     max         x        y        cm\n",
       "date                                                             \n",
       "2002-01-01   ANTHUAN 3.50000 6.00000 106.57215  9.99752   0.00000\n",
       "2002-01-01  LOCTHUAN 0.00000 0.00000 106.59743 10.24030 274.32000\n",
       "2002-01-01    SONDOC 0.10000 0.30000 106.52635 10.02522  30.48000\n",
       "2002-01-01   BENTRAI 0.20000 1.00000 106.53715  9.87584   0.00000\n",
       "2002-01-01   BINHDAI 0.50000 2.00000 106.69681 10.20635 152.40000"
      ]
     },
     "execution_count": 8,
     "metadata": {},
     "output_type": "execute_result"
    }
   ],
   "source": [
    "# sort by date index\n",
    "df.sort_index(inplace=True)\n",
    "\n",
    "df.head()"
   ]
  },
  {
   "cell_type": "markdown",
   "metadata": {},
   "source": [
    "### ARIMA Self Help"
   ]
  },
  {
   "cell_type": "code",
   "execution_count": 9,
   "metadata": {},
   "outputs": [
    {
     "name": "stdout",
     "output_type": "stream",
     "text": [
      "Help on class ARIMA in module statsmodels.tsa.arima_model:\n",
      "\n",
      "class ARIMA(ARMA)\n",
      " |  ARIMA(endog, order, exog=None, dates=None, freq=None, missing='none')\n",
      " |  \n",
      " |  Autoregressive Integrated Moving Average ARIMA(p,d,q) Model\n",
      " |  \n",
      " |  Parameters\n",
      " |  ----------\n",
      " |  endog : array_like\n",
      " |      The endogenous variable.\n",
      " |  order : iterable\n",
      " |      The (p,d,q) order of the model for the number of AR parameters,\n",
      " |      differences, and MA parameters to use.\n",
      " |  exog : array_like, optional\n",
      " |      An optional array of exogenous variables. This should *not* include a\n",
      " |      constant or trend. You can specify this in the `fit` method.\n",
      " |  dates : array_like, optional\n",
      " |      An array-like object of datetime objects. If a pandas object is given\n",
      " |      for endog or exog, it is assumed to have a DateIndex.\n",
      " |  freq : str, optional\n",
      " |      The frequency of the time-series. A Pandas offset or 'B', 'D', 'W',\n",
      " |      'M', 'A', or 'Q'. This is optional if dates are given.\n",
      " |  \n",
      " |  \n",
      " |  Notes\n",
      " |  -----\n",
      " |  If exogenous variables are given, then the model that is fit is\n",
      " |  \n",
      " |  .. math::\n",
      " |  \n",
      " |     \\phi(L)(y_t - X_t\\beta) = \\theta(L)\\epsilon_t\n",
      " |  \n",
      " |  where :math:`\\phi` and :math:`\\theta` are polynomials in the lag\n",
      " |  operator, :math:`L`. This is the regression model with ARMA errors,\n",
      " |  or ARMAX model. This specification is used, whether or not the model\n",
      " |  is fit using conditional sum of square or maximum-likelihood, using\n",
      " |  the `method` argument in\n",
      " |  :meth:`statsmodels.tsa.arima_model.ARIMA.fit`. Therefore, for\n",
      " |  now, `css` and `mle` refer to estimation methods only. This may\n",
      " |  change for the case of the `css` model in future versions.\n",
      " |  \n",
      " |  Method resolution order:\n",
      " |      ARIMA\n",
      " |      ARMA\n",
      " |      statsmodels.tsa.base.tsa_model.TimeSeriesModel\n",
      " |      statsmodels.base.model.LikelihoodModel\n",
      " |      statsmodels.base.model.Model\n",
      " |      builtins.object\n",
      " |  \n",
      " |  Methods defined here:\n",
      " |  \n",
      " |  __getnewargs__(self)\n",
      " |  \n",
      " |  __init__(self, endog, order, exog=None, dates=None, freq=None, missing='none')\n",
      " |      Initialize self.  See help(type(self)) for accurate signature.\n",
      " |  \n",
      " |  fit(self, start_params=None, trend='c', method='css-mle', transparams=True, solver='lbfgs', maxiter=500, full_output=1, disp=5, callback=None, start_ar_lags=None, **kwargs)\n",
      " |      Fits ARIMA(p,d,q) model by exact maximum likelihood via Kalman filter.\n",
      " |      \n",
      " |      Parameters\n",
      " |      ----------\n",
      " |      start_params : array_like, optional\n",
      " |          Starting parameters for ARMA(p,q).  If None, the default is given\n",
      " |          by ARMA._fit_start_params.  See there for more information.\n",
      " |      transparams : bool, optional\n",
      " |          Whether or not to transform the parameters to ensure stationarity.\n",
      " |          Uses the transformation suggested in Jones (1980).  If False,\n",
      " |          no checking for stationarity or invertibility is done.\n",
      " |      method : str {'css-mle','mle','css'}\n",
      " |          This is the loglikelihood to maximize.  If \"css-mle\", the\n",
      " |          conditional sum of squares likelihood is maximized and its values\n",
      " |          are used as starting values for the computation of the exact\n",
      " |          likelihood via the Kalman filter.  If \"mle\", the exact likelihood\n",
      " |          is maximized via the Kalman Filter.  If \"css\" the conditional sum\n",
      " |          of squares likelihood is maximized.  All three methods use\n",
      " |          `start_params` as starting parameters.  See above for more\n",
      " |          information.\n",
      " |      trend : str {'c','nc'}\n",
      " |          Whether to include a constant or not.  'c' includes constant,\n",
      " |          'nc' no constant.\n",
      " |      solver : str or None, optional\n",
      " |          Solver to be used.  The default is 'lbfgs' (limited memory\n",
      " |          Broyden-Fletcher-Goldfarb-Shanno).  Other choices are 'bfgs',\n",
      " |          'newton' (Newton-Raphson), 'nm' (Nelder-Mead), 'cg' -\n",
      " |          (conjugate gradient), 'ncg' (non-conjugate gradient), and\n",
      " |          'powell'. By default, the limited memory BFGS uses m=12 to\n",
      " |          approximate the Hessian, projected gradient tolerance of 1e-8 and\n",
      " |          factr = 1e2. You can change these by using kwargs.\n",
      " |      maxiter : int, optional\n",
      " |          The maximum number of function evaluations. Default is 500.\n",
      " |      tol : float\n",
      " |          The convergence tolerance.  Default is 1e-08.\n",
      " |      full_output : bool, optional\n",
      " |          If True, all output from solver will be available in\n",
      " |          the Results object's mle_retvals attribute.  Output is dependent\n",
      " |          on the solver.  See Notes for more information.\n",
      " |      disp : int, optional\n",
      " |          If True, convergence information is printed.  For the default\n",
      " |          l_bfgs_b solver, disp controls the frequency of the output during\n",
      " |          the iterations. disp < 0 means no output in this case.\n",
      " |      callback : function, optional\n",
      " |          Called after each iteration as callback(xk) where xk is the current\n",
      " |          parameter vector.\n",
      " |      start_ar_lags : int, optional\n",
      " |          Parameter for fitting start_params. When fitting start_params,\n",
      " |          residuals are obtained from an AR fit, then an ARMA(p,q) model is\n",
      " |          fit via OLS using these residuals. If start_ar_lags is None, fit\n",
      " |          an AR process according to best BIC. If start_ar_lags is not None,\n",
      " |          fits an AR process with a lag length equal to start_ar_lags.\n",
      " |          See ARMA._fit_start_params_hr for more information.\n",
      " |      **kwargs\n",
      " |          See Notes for keyword arguments that can be passed to fit.\n",
      " |      \n",
      " |      Returns\n",
      " |      -------\n",
      " |      `statsmodels.tsa.arima.ARIMAResults` class\n",
      " |      \n",
      " |      See Also\n",
      " |      --------\n",
      " |      statsmodels.base.model.LikelihoodModel.fit : for more information\n",
      " |          on using the solvers.\n",
      " |      ARIMAResults : results class returned by fit\n",
      " |      \n",
      " |      Notes\n",
      " |      -----\n",
      " |      If fit by 'mle', it is assumed for the Kalman Filter that the initial\n",
      " |      unknown state is zero, and that the initial variance is\n",
      " |      P = dot(inv(identity(m**2)-kron(T,T)),dot(R,R.T).ravel('F')).reshape(r,\n",
      " |      r, order = 'F')\n",
      " |  \n",
      " |  predict(self, params, start=None, end=None, exog=None, typ='linear', dynamic=False)\n",
      " |      ARIMA model in-sample and out-of-sample prediction\n",
      " |      \n",
      " |      Parameters\n",
      " |      ----------\n",
      " |      params : array_like\n",
      " |          The fitted parameters of the model.\n",
      " |      start : int, str, or datetime\n",
      " |          Zero-indexed observation number at which to start forecasting, ie.,\n",
      " |          the first forecast is start. Can also be a date string to\n",
      " |          parse or a datetime type.\n",
      " |      end : int, str, or datetime\n",
      " |          Zero-indexed observation number at which to end forecasting, ie.,\n",
      " |          the first forecast is start. Can also be a date string to\n",
      " |          parse or a datetime type. However, if the dates index does not\n",
      " |          have a fixed frequency, end must be an integer index if you\n",
      " |          want out of sample prediction.\n",
      " |      exog : array_like, optional\n",
      " |          If the model is an ARMAX and out-of-sample forecasting is\n",
      " |          requested, exog must be given. exog must be aligned so that exog[0]\n",
      " |          is used to produce the first out-of-sample forecast. The number of\n",
      " |          observation in exog should match the number of out-of-sample\n",
      " |          forecasts produced. If the length of exog does not match the number\n",
      " |          of forecasts, a SpecificationWarning is produced.\n",
      " |      dynamic : bool, optional\n",
      " |          The `dynamic` keyword affects in-sample prediction. If dynamic\n",
      " |          is False, then the in-sample lagged values are used for\n",
      " |          prediction. If `dynamic` is True, then in-sample forecasts are\n",
      " |          used in place of lagged dependent variables. The first forecast\n",
      " |          value is `start`.\n",
      " |      typ : str {'linear', 'levels'}\n",
      " |      \n",
      " |          - 'linear' : Linear prediction in terms of the differenced\n",
      " |            endogenous variables.\n",
      " |          - 'levels' : Predict the levels of the original endogenous\n",
      " |            variables.\n",
      " |      \n",
      " |      \n",
      " |      Returns\n",
      " |      -------\n",
      " |      predict : ndarray\n",
      " |          The predicted values.\n",
      " |      \n",
      " |      \n",
      " |      \n",
      " |      Notes\n",
      " |      -----\n",
      " |      Use the results predict method instead.\n",
      " |  \n",
      " |  ----------------------------------------------------------------------\n",
      " |  Static methods defined here:\n",
      " |  \n",
      " |  __new__(cls, endog, order, exog=None, dates=None, freq=None, missing='none')\n",
      " |      Create and return a new object.  See help(type) for accurate signature.\n",
      " |  \n",
      " |  ----------------------------------------------------------------------\n",
      " |  Methods inherited from ARMA:\n",
      " |  \n",
      " |  geterrors(self, params)\n",
      " |      Get the errors of the ARMA process.\n",
      " |      \n",
      " |      Parameters\n",
      " |      ----------\n",
      " |      params : array_like\n",
      " |          The fitted ARMA parameters\n",
      " |      order : array_like\n",
      " |          3 item iterable, with the number of AR, MA, and exogenous\n",
      " |          parameters, including the trend\n",
      " |  \n",
      " |  hessian(self, params)\n",
      " |      Compute the Hessian at params,\n",
      " |      \n",
      " |      Notes\n",
      " |      -----\n",
      " |      This is a numerical approximation.\n",
      " |  \n",
      " |  loglike(self, params, set_sigma2=True)\n",
      " |      Compute the log-likelihood for ARMA(p,q) model\n",
      " |      \n",
      " |      Notes\n",
      " |      -----\n",
      " |      Likelihood used depends on the method set in fit\n",
      " |  \n",
      " |  loglike_css(self, params, set_sigma2=True)\n",
      " |      Conditional Sum of Squares likelihood function.\n",
      " |  \n",
      " |  loglike_kalman(self, params, set_sigma2=True)\n",
      " |      Compute exact loglikelihood for ARMA(p,q) model by the Kalman Filter.\n",
      " |  \n",
      " |  score(self, params)\n",
      " |      Compute the score function at params.\n",
      " |      \n",
      " |      Notes\n",
      " |      -----\n",
      " |      This is a numerical approximation.\n",
      " |  \n",
      " |  ----------------------------------------------------------------------\n",
      " |  Class methods inherited from ARMA:\n",
      " |  \n",
      " |  from_formula(formula, data, subset=None, drop_cols=None, *args, **kwargs) from builtins.type\n",
      " |      Create a Model from a formula and dataframe.\n",
      " |      \n",
      " |      Parameters\n",
      " |      ----------\n",
      " |      formula : str or generic Formula object\n",
      " |          The formula specifying the model.\n",
      " |      data : array_like\n",
      " |          The data for the model. See Notes.\n",
      " |      subset : array_like\n",
      " |          An array-like object of booleans, integers, or index values that\n",
      " |          indicate the subset of df to use in the model. Assumes df is a\n",
      " |          `pandas.DataFrame`.\n",
      " |      drop_cols : array_like\n",
      " |          Columns to drop from the design matrix.  Cannot be used to\n",
      " |          drop terms involving categoricals.\n",
      " |      *args\n",
      " |          Additional positional argument that are passed to the model.\n",
      " |      **kwargs\n",
      " |          These are passed to the model with one exception. The\n",
      " |          ``eval_env`` keyword is passed to patsy. It can be either a\n",
      " |          :class:`patsy:patsy.EvalEnvironment` object or an integer\n",
      " |          indicating the depth of the namespace to use. For example, the\n",
      " |          default ``eval_env=0`` uses the calling namespace. If you wish\n",
      " |          to use a \"clean\" environment set ``eval_env=-1``.\n",
      " |      \n",
      " |      Returns\n",
      " |      -------\n",
      " |      model\n",
      " |          The model instance.\n",
      " |      \n",
      " |      Notes\n",
      " |      -----\n",
      " |      data must define __getitem__ with the keys in the formula terms\n",
      " |      args and kwargs are passed on to the model instantiation. E.g.,\n",
      " |      a numpy structured or rec array, a dictionary, or a pandas DataFrame.\n",
      " |  \n",
      " |  ----------------------------------------------------------------------\n",
      " |  Data descriptors inherited from statsmodels.tsa.base.tsa_model.TimeSeriesModel:\n",
      " |  \n",
      " |  exog_names\n",
      " |      The names of the exogenous variables.\n",
      " |  \n",
      " |  ----------------------------------------------------------------------\n",
      " |  Methods inherited from statsmodels.base.model.LikelihoodModel:\n",
      " |  \n",
      " |  information(self, params)\n",
      " |      Fisher information matrix of model.\n",
      " |      \n",
      " |      Returns -1 * Hessian of the log-likelihood evaluated at params.\n",
      " |      \n",
      " |      Parameters\n",
      " |      ----------\n",
      " |      params : ndarray\n",
      " |          The model parameters.\n",
      " |  \n",
      " |  initialize(self)\n",
      " |      Initialize (possibly re-initialize) a Model instance.\n",
      " |      \n",
      " |      For example, if the the design matrix of a linear model changes then\n",
      " |      initialized can be used to recompute values using the modified design\n",
      " |      matrix.\n",
      " |  \n",
      " |  ----------------------------------------------------------------------\n",
      " |  Data descriptors inherited from statsmodels.base.model.Model:\n",
      " |  \n",
      " |  __dict__\n",
      " |      dictionary for instance variables (if defined)\n",
      " |  \n",
      " |  __weakref__\n",
      " |      list of weak references to the object (if defined)\n",
      " |  \n",
      " |  endog_names\n",
      " |      Names of endogenous variables.\n",
      "\n"
     ]
    }
   ],
   "source": [
    "help(ARIMA)"
   ]
  },
  {
   "cell_type": "markdown",
   "metadata": {},
   "source": [
    "### Split training and test sets  \n",
    "Use 2018 as test set for now. When 2019 data can be collected, 2019 samples will be used for testing and 2020 data can be considered as evaluation"
   ]
  },
  {
   "cell_type": "code",
   "execution_count": 16,
   "metadata": {},
   "outputs": [],
   "source": [
    "test_year = 2018"
   ]
  },
  {
   "cell_type": "code",
   "execution_count": 17,
   "metadata": {},
   "outputs": [
    {
     "data": {
      "text/plain": [
       "DatetimeIndex(['2002-01-01', '2002-01-01', '2002-01-01', '2002-01-01',\n",
       "               '2002-01-01', '2002-01-02', '2002-01-02', '2002-01-02',\n",
       "               '2002-01-02', '2002-01-02',\n",
       "               ...\n",
       "               '2017-05-30', '2017-05-30', '2017-05-30', '2017-05-30',\n",
       "               '2017-05-30', '2017-05-31', '2017-05-31', '2017-05-31',\n",
       "               '2017-05-31', '2017-05-31'],\n",
       "              dtype='datetime64[ns]', name='date', length=11688, freq=None)"
      ]
     },
     "execution_count": 17,
     "metadata": {},
     "output_type": "execute_result"
    }
   ],
   "source": [
    "train_df = df[df.index.year < test_year]\n",
    "train_df.index"
   ]
  },
  {
   "cell_type": "code",
   "execution_count": 21,
   "metadata": {},
   "outputs": [
    {
     "data": {
      "text/html": [
       "<div>\n",
       "<style scoped>\n",
       "    .dataframe tbody tr th:only-of-type {\n",
       "        vertical-align: middle;\n",
       "    }\n",
       "\n",
       "    .dataframe tbody tr th {\n",
       "        vertical-align: top;\n",
       "    }\n",
       "\n",
       "    .dataframe thead th {\n",
       "        text-align: right;\n",
       "    }\n",
       "</style>\n",
       "<table border=\"1\" class=\"dataframe\">\n",
       "  <thead>\n",
       "    <tr style=\"text-align: right;\">\n",
       "      <th></th>\n",
       "      <th>count</th>\n",
       "      <th>mean</th>\n",
       "      <th>std</th>\n",
       "      <th>min</th>\n",
       "      <th>25%</th>\n",
       "      <th>50%</th>\n",
       "      <th>75%</th>\n",
       "      <th>max</th>\n",
       "    </tr>\n",
       "  </thead>\n",
       "  <tbody>\n",
       "    <tr>\n",
       "      <th>min</th>\n",
       "      <td>11,688.00000</td>\n",
       "      <td>4.73880</td>\n",
       "      <td>4.11783</td>\n",
       "      <td>0.00000</td>\n",
       "      <td>1.50000</td>\n",
       "      <td>3.80000</td>\n",
       "      <td>7.00000</td>\n",
       "      <td>25.00000</td>\n",
       "    </tr>\n",
       "    <tr>\n",
       "      <th>max</th>\n",
       "      <td>11,688.00000</td>\n",
       "      <td>11.41293</td>\n",
       "      <td>7.50862</td>\n",
       "      <td>0.00000</td>\n",
       "      <td>5.20000</td>\n",
       "      <td>10.70000</td>\n",
       "      <td>17.50000</td>\n",
       "      <td>58.40000</td>\n",
       "    </tr>\n",
       "    <tr>\n",
       "      <th>x</th>\n",
       "      <td>11,688.00000</td>\n",
       "      <td>106.56198</td>\n",
       "      <td>0.09566</td>\n",
       "      <td>106.21894</td>\n",
       "      <td>106.52635</td>\n",
       "      <td>106.57215</td>\n",
       "      <td>106.59743</td>\n",
       "      <td>106.69681</td>\n",
       "    </tr>\n",
       "    <tr>\n",
       "      <th>y</th>\n",
       "      <td>11,688.00000</td>\n",
       "      <td>10.07989</td>\n",
       "      <td>0.13631</td>\n",
       "      <td>9.87584</td>\n",
       "      <td>9.99752</td>\n",
       "      <td>10.02522</td>\n",
       "      <td>10.20635</td>\n",
       "      <td>10.29033</td>\n",
       "    </tr>\n",
       "    <tr>\n",
       "      <th>cm</th>\n",
       "      <td>11,688.00000</td>\n",
       "      <td>121.65140</td>\n",
       "      <td>166.11815</td>\n",
       "      <td>0.00000</td>\n",
       "      <td>0.00000</td>\n",
       "      <td>30.48000</td>\n",
       "      <td>213.36000</td>\n",
       "      <td>944.88000</td>\n",
       "    </tr>\n",
       "  </tbody>\n",
       "</table>\n",
       "</div>"
      ],
      "text/plain": [
       "           count      mean       std       min       25%       50%       75%  \\\n",
       "min 11,688.00000   4.73880   4.11783   0.00000   1.50000   3.80000   7.00000   \n",
       "max 11,688.00000  11.41293   7.50862   0.00000   5.20000  10.70000  17.50000   \n",
       "x   11,688.00000 106.56198   0.09566 106.21894 106.52635 106.57215 106.59743   \n",
       "y   11,688.00000  10.07989   0.13631   9.87584   9.99752  10.02522  10.20635   \n",
       "cm  11,688.00000 121.65140 166.11815   0.00000   0.00000  30.48000 213.36000   \n",
       "\n",
       "          max  \n",
       "min  25.00000  \n",
       "max  58.40000  \n",
       "x   106.69681  \n",
       "y    10.29033  \n",
       "cm  944.88000  "
      ]
     },
     "execution_count": 21,
     "metadata": {},
     "output_type": "execute_result"
    }
   ],
   "source": [
    "train_df.describe().transpose()"
   ]
  },
  {
   "cell_type": "code",
   "execution_count": 23,
   "metadata": {},
   "outputs": [
    {
     "data": {
      "text/plain": [
       "DatetimeIndex(['2018-01-01', '2018-01-01', '2018-01-01', '2018-01-01',\n",
       "               '2018-01-01', '2018-01-01', '2018-01-01', '2018-01-01',\n",
       "               '2018-01-01', '2018-01-01',\n",
       "               ...\n",
       "               '2018-05-31', '2018-05-31', '2018-05-31', '2018-05-31',\n",
       "               '2018-05-31', '2018-05-31', '2018-05-31', '2018-05-31',\n",
       "               '2018-05-31', '2018-05-31'],\n",
       "              dtype='datetime64[ns]', name='date', length=1812, freq=None)"
      ]
     },
     "execution_count": 23,
     "metadata": {},
     "output_type": "execute_result"
    }
   ],
   "source": [
    "test_df = df[df.index.year >= test_year]\n",
    "test_df.index"
   ]
  },
  {
   "cell_type": "code",
   "execution_count": 24,
   "metadata": {},
   "outputs": [
    {
     "data": {
      "text/html": [
       "<div>\n",
       "<style scoped>\n",
       "    .dataframe tbody tr th:only-of-type {\n",
       "        vertical-align: middle;\n",
       "    }\n",
       "\n",
       "    .dataframe tbody tr th {\n",
       "        vertical-align: top;\n",
       "    }\n",
       "\n",
       "    .dataframe thead th {\n",
       "        text-align: right;\n",
       "    }\n",
       "</style>\n",
       "<table border=\"1\" class=\"dataframe\">\n",
       "  <thead>\n",
       "    <tr style=\"text-align: right;\">\n",
       "      <th></th>\n",
       "      <th>count</th>\n",
       "      <th>mean</th>\n",
       "      <th>std</th>\n",
       "      <th>min</th>\n",
       "      <th>25%</th>\n",
       "      <th>50%</th>\n",
       "      <th>75%</th>\n",
       "      <th>max</th>\n",
       "    </tr>\n",
       "  </thead>\n",
       "  <tbody>\n",
       "    <tr>\n",
       "      <th>min</th>\n",
       "      <td>1,812.00000</td>\n",
       "      <td>0.88008</td>\n",
       "      <td>1.67831</td>\n",
       "      <td>0.00000</td>\n",
       "      <td>0.00000</td>\n",
       "      <td>0.08000</td>\n",
       "      <td>0.90000</td>\n",
       "      <td>10.50000</td>\n",
       "    </tr>\n",
       "    <tr>\n",
       "      <th>max</th>\n",
       "      <td>1,812.00000</td>\n",
       "      <td>1.34064</td>\n",
       "      <td>2.38594</td>\n",
       "      <td>0.00000</td>\n",
       "      <td>0.00000</td>\n",
       "      <td>0.10000</td>\n",
       "      <td>1.60000</td>\n",
       "      <td>12.10000</td>\n",
       "    </tr>\n",
       "    <tr>\n",
       "      <th>x</th>\n",
       "      <td>1,812.00000</td>\n",
       "      <td>106.36199</td>\n",
       "      <td>0.10918</td>\n",
       "      <td>106.21894</td>\n",
       "      <td>106.27825</td>\n",
       "      <td>106.33757</td>\n",
       "      <td>106.41475</td>\n",
       "      <td>106.59743</td>\n",
       "    </tr>\n",
       "    <tr>\n",
       "      <th>y</th>\n",
       "      <td>1,812.00000</td>\n",
       "      <td>10.13252</td>\n",
       "      <td>0.07891</td>\n",
       "      <td>10.02140</td>\n",
       "      <td>10.07289</td>\n",
       "      <td>10.12292</td>\n",
       "      <td>10.19215</td>\n",
       "      <td>10.24610</td>\n",
       "    </tr>\n",
       "    <tr>\n",
       "      <th>cm</th>\n",
       "      <td>1,812.00000</td>\n",
       "      <td>393.70000</td>\n",
       "      <td>240.21386</td>\n",
       "      <td>0.00000</td>\n",
       "      <td>236.22000</td>\n",
       "      <td>381.00000</td>\n",
       "      <td>601.98000</td>\n",
       "      <td>731.52000</td>\n",
       "    </tr>\n",
       "  </tbody>\n",
       "</table>\n",
       "</div>"
      ],
      "text/plain": [
       "          count      mean       std       min       25%       50%       75%  \\\n",
       "min 1,812.00000   0.88008   1.67831   0.00000   0.00000   0.08000   0.90000   \n",
       "max 1,812.00000   1.34064   2.38594   0.00000   0.00000   0.10000   1.60000   \n",
       "x   1,812.00000 106.36199   0.10918 106.21894 106.27825 106.33757 106.41475   \n",
       "y   1,812.00000  10.13252   0.07891  10.02140  10.07289  10.12292  10.19215   \n",
       "cm  1,812.00000 393.70000 240.21386   0.00000 236.22000 381.00000 601.98000   \n",
       "\n",
       "          max  \n",
       "min  10.50000  \n",
       "max  12.10000  \n",
       "x   106.59743  \n",
       "y    10.24610  \n",
       "cm  731.52000  "
      ]
     },
     "execution_count": 24,
     "metadata": {},
     "output_type": "execute_result"
    }
   ],
   "source": [
    "test_df.describe().transpose()"
   ]
  },
  {
   "cell_type": "markdown",
   "metadata": {},
   "source": [
    "### Try out some simpler models on a specific station: SONDOC"
   ]
  },
  {
   "cell_type": "code",
   "execution_count": 133,
   "metadata": {},
   "outputs": [],
   "source": [
    "value_field = 'max'\n",
    "station_code = 'SONDOC'\n",
    "\n",
    "# Jan to May\n",
    "season_length = 150  # same length of 2018 test data - 1: 151 cause overflow encountered in double scalars\n",
    "\n",
    "# seasonal adjustment\n",
    "#adjustment = 'additive'\n",
    "adjustment = 'multiplicative'"
   ]
  },
  {
   "cell_type": "code",
   "execution_count": 134,
   "metadata": {},
   "outputs": [
    {
     "data": {
      "text/plain": [
       "2118"
      ]
     },
     "execution_count": 134,
     "metadata": {},
     "output_type": "execute_result"
    }
   ],
   "source": [
    "train_data = train_df.loc[train_df['code'] == station_code, value_field]\n",
    "\n",
    "if adjustment == 'multiplicative':\n",
    "    train_data = train_data[train_data > 0.02]\n",
    "    \n",
    "train_data.count()"
   ]
  },
  {
   "cell_type": "code",
   "execution_count": 135,
   "metadata": {},
   "outputs": [
    {
     "data": {
      "text/plain": [
       "151"
      ]
     },
     "execution_count": 135,
     "metadata": {},
     "output_type": "execute_result"
    }
   ],
   "source": [
    "test_data = test_df.loc[test_df['code'] == station_code, value_field]\n",
    "\n",
    "test_data.count()"
   ]
  },
  {
   "cell_type": "markdown",
   "metadata": {},
   "source": [
    "1. Holt-Winters method via Exponential Smoothing"
   ]
  },
  {
   "cell_type": "code",
   "execution_count": 137,
   "metadata": {},
   "outputs": [
    {
     "name": "stderr",
     "output_type": "stream",
     "text": [
      "/home/kenneth/anaconda3/envs/salinization/lib/python3.7/site-packages/statsmodels/tsa/base/tsa_model.py:218: ValueWarning: A date index has been provided, but it has no associated frequency information and so will be ignored when e.g. forecasting.\n",
      "  ' ignored when e.g. forecasting.', ValueWarning)\n",
      "/home/kenneth/anaconda3/envs/salinization/lib/python3.7/site-packages/statsmodels/tsa/holtwinters.py:744: ConvergenceWarning: Optimization failed to converge. Check mle_retvals.\n",
      "  ConvergenceWarning)\n"
     ]
    }
   ],
   "source": [
    "from statsmodels.tsa.holtwinters import ExponentialSmoothing\n",
    "\n",
    "hw_model = ExponentialSmoothing(train_data, \n",
    "                                trend=adjustment, seasonal=adjustment, \n",
    "                                seasonal_periods=season_length).fit()"
   ]
  },
  {
   "cell_type": "code",
   "execution_count": 138,
   "metadata": {},
   "outputs": [
    {
     "name": "stderr",
     "output_type": "stream",
     "text": [
      "/home/kenneth/anaconda3/envs/salinization/lib/python3.7/site-packages/statsmodels/tsa/base/tsa_model.py:583: ValueWarning: No supported index is available. Prediction results will be given with an integer index beginning at `start`.\n",
      "  ValueWarning)\n"
     ]
    }
   ],
   "source": [
    "hw_prediction = hw_model.forecast(season_length)"
   ]
  },
  {
   "cell_type": "code",
   "execution_count": 139,
   "metadata": {},
   "outputs": [
    {
     "data": {
      "text/plain": [
       "2118   1.14051\n",
       "2119   1.40019\n",
       "2120   0.90833\n",
       "2121   0.95497\n",
       "2122   1.05056\n",
       "2123   1.19157\n",
       "2124   1.19960\n",
       "2125   0.94555\n",
       "2126   0.81101\n",
       "2127   0.77234\n",
       "dtype: float64"
      ]
     },
     "execution_count": 139,
     "metadata": {},
     "output_type": "execute_result"
    }
   ],
   "source": [
    "hw_prediction.head(10)"
   ]
  },
  {
   "cell_type": "code",
   "execution_count": 140,
   "metadata": {},
   "outputs": [
    {
     "data": {
      "text/plain": [
       "2258   3.83466\n",
       "2259   4.18934\n",
       "2260   2.51471\n",
       "2261   2.40676\n",
       "2262   2.66570\n",
       "2263   2.80253\n",
       "2264   2.82530\n",
       "2265   2.29582\n",
       "2266   2.21582\n",
       "2267   2.45439\n",
       "dtype: float64"
      ]
     },
     "execution_count": 140,
     "metadata": {},
     "output_type": "execute_result"
    }
   ],
   "source": [
    "hw_prediction.tail(10)"
   ]
  },
  {
   "cell_type": "code",
   "execution_count": 141,
   "metadata": {},
   "outputs": [
    {
     "data": {
      "text/html": [
       "<div>\n",
       "<style scoped>\n",
       "    .dataframe tbody tr th:only-of-type {\n",
       "        vertical-align: middle;\n",
       "    }\n",
       "\n",
       "    .dataframe tbody tr th {\n",
       "        vertical-align: top;\n",
       "    }\n",
       "\n",
       "    .dataframe thead th {\n",
       "        text-align: right;\n",
       "    }\n",
       "</style>\n",
       "<table border=\"1\" class=\"dataframe\">\n",
       "  <thead>\n",
       "    <tr style=\"text-align: right;\">\n",
       "      <th></th>\n",
       "      <th>date</th>\n",
       "      <th>max</th>\n",
       "    </tr>\n",
       "  </thead>\n",
       "  <tbody>\n",
       "    <tr>\n",
       "      <th>2113</th>\n",
       "      <td>2016-06-23</td>\n",
       "      <td>3.40000</td>\n",
       "    </tr>\n",
       "    <tr>\n",
       "      <th>2114</th>\n",
       "      <td>2016-06-24</td>\n",
       "      <td>3.10000</td>\n",
       "    </tr>\n",
       "    <tr>\n",
       "      <th>2115</th>\n",
       "      <td>2016-06-27</td>\n",
       "      <td>1.20000</td>\n",
       "    </tr>\n",
       "    <tr>\n",
       "      <th>2116</th>\n",
       "      <td>2016-06-28</td>\n",
       "      <td>0.90000</td>\n",
       "    </tr>\n",
       "    <tr>\n",
       "      <th>2117</th>\n",
       "      <td>2016-06-29</td>\n",
       "      <td>1.00000</td>\n",
       "    </tr>\n",
       "  </tbody>\n",
       "</table>\n",
       "</div>"
      ],
      "text/plain": [
       "           date     max\n",
       "2113 2016-06-23 3.40000\n",
       "2114 2016-06-24 3.10000\n",
       "2115 2016-06-27 1.20000\n",
       "2116 2016-06-28 0.90000\n",
       "2117 2016-06-29 1.00000"
      ]
     },
     "execution_count": 141,
     "metadata": {},
     "output_type": "execute_result"
    }
   ],
   "source": [
    "# since there are missing timestamps, reset index to integer\n",
    "train_temp_df = train_data.reset_index()\n",
    "\n",
    "train_temp_df.tail()"
   ]
  },
  {
   "cell_type": "code",
   "execution_count": 142,
   "metadata": {},
   "outputs": [
    {
     "data": {
      "text/html": [
       "<div>\n",
       "<style scoped>\n",
       "    .dataframe tbody tr th:only-of-type {\n",
       "        vertical-align: middle;\n",
       "    }\n",
       "\n",
       "    .dataframe tbody tr th {\n",
       "        vertical-align: top;\n",
       "    }\n",
       "\n",
       "    .dataframe thead th {\n",
       "        text-align: right;\n",
       "    }\n",
       "</style>\n",
       "<table border=\"1\" class=\"dataframe\">\n",
       "  <thead>\n",
       "    <tr style=\"text-align: right;\">\n",
       "      <th></th>\n",
       "      <th>date</th>\n",
       "      <th>max</th>\n",
       "    </tr>\n",
       "  </thead>\n",
       "  <tbody>\n",
       "    <tr>\n",
       "      <th>2118</th>\n",
       "      <td>2018-01-01</td>\n",
       "      <td>0.00000</td>\n",
       "    </tr>\n",
       "    <tr>\n",
       "      <th>2119</th>\n",
       "      <td>2018-01-02</td>\n",
       "      <td>0.00000</td>\n",
       "    </tr>\n",
       "    <tr>\n",
       "      <th>2120</th>\n",
       "      <td>2018-01-03</td>\n",
       "      <td>0.00000</td>\n",
       "    </tr>\n",
       "    <tr>\n",
       "      <th>2121</th>\n",
       "      <td>2018-01-04</td>\n",
       "      <td>0.00000</td>\n",
       "    </tr>\n",
       "    <tr>\n",
       "      <th>2122</th>\n",
       "      <td>2018-01-05</td>\n",
       "      <td>0.00000</td>\n",
       "    </tr>\n",
       "  </tbody>\n",
       "</table>\n",
       "</div>"
      ],
      "text/plain": [
       "           date     max\n",
       "2118 2018-01-01 0.00000\n",
       "2119 2018-01-02 0.00000\n",
       "2120 2018-01-03 0.00000\n",
       "2121 2018-01-04 0.00000\n",
       "2122 2018-01-05 0.00000"
      ]
     },
     "execution_count": 142,
     "metadata": {},
     "output_type": "execute_result"
    }
   ],
   "source": [
    "# since prediction does not have time series based index, reset index to match with prediction's index\n",
    "test_temp_df = test_data.reset_index()\n",
    "test_temp_df.index += 2118\n",
    "\n",
    "test_temp_df.head()"
   ]
  },
  {
   "cell_type": "code",
   "execution_count": 143,
   "metadata": {},
   "outputs": [
    {
     "data": {
      "text/html": [
       "<div>\n",
       "<style scoped>\n",
       "    .dataframe tbody tr th:only-of-type {\n",
       "        vertical-align: middle;\n",
       "    }\n",
       "\n",
       "    .dataframe tbody tr th {\n",
       "        vertical-align: top;\n",
       "    }\n",
       "\n",
       "    .dataframe thead th {\n",
       "        text-align: right;\n",
       "    }\n",
       "</style>\n",
       "<table border=\"1\" class=\"dataframe\">\n",
       "  <thead>\n",
       "    <tr style=\"text-align: right;\">\n",
       "      <th></th>\n",
       "      <th>date</th>\n",
       "      <th>max</th>\n",
       "    </tr>\n",
       "  </thead>\n",
       "  <tbody>\n",
       "    <tr>\n",
       "      <th>2264</th>\n",
       "      <td>2018-05-27</td>\n",
       "      <td>0.50000</td>\n",
       "    </tr>\n",
       "    <tr>\n",
       "      <th>2265</th>\n",
       "      <td>2018-05-28</td>\n",
       "      <td>0.40000</td>\n",
       "    </tr>\n",
       "    <tr>\n",
       "      <th>2266</th>\n",
       "      <td>2018-05-29</td>\n",
       "      <td>0.40000</td>\n",
       "    </tr>\n",
       "    <tr>\n",
       "      <th>2267</th>\n",
       "      <td>2018-05-30</td>\n",
       "      <td>0.40000</td>\n",
       "    </tr>\n",
       "    <tr>\n",
       "      <th>2268</th>\n",
       "      <td>2018-05-31</td>\n",
       "      <td>0.30000</td>\n",
       "    </tr>\n",
       "  </tbody>\n",
       "</table>\n",
       "</div>"
      ],
      "text/plain": [
       "           date     max\n",
       "2264 2018-05-27 0.50000\n",
       "2265 2018-05-28 0.40000\n",
       "2266 2018-05-29 0.40000\n",
       "2267 2018-05-30 0.40000\n",
       "2268 2018-05-31 0.30000"
      ]
     },
     "execution_count": 143,
     "metadata": {},
     "output_type": "execute_result"
    }
   ],
   "source": [
    "test_temp_df.tail()"
   ]
  },
  {
   "cell_type": "code",
   "execution_count": 144,
   "metadata": {},
   "outputs": [
    {
     "data": {
      "text/plain": [
       "<matplotlib.axes._subplots.AxesSubplot at 0x7fccf419cf90>"
      ]
     },
     "execution_count": 144,
     "metadata": {},
     "output_type": "execute_result"
    },
    {
     "data": {
      "image/png": "[encoded data removed]",
      "text/plain": [
       "<Figure size 864x576 with 1 Axes>"
      ]
     },
     "metadata": {
      "needs_background": "light"
     },
     "output_type": "display_data"
    }
   ],
   "source": [
    "# plot prediction vs. true values\n",
    "train_temp_df[value_field].plot(legend=True, label='TRAIN')\n",
    "test_temp_df[value_field].plot(legend=True, label='TEST', figsize=(12,8))\n",
    "hw_prediction.plot(legend=True, label='PREDICTION')"
   ]
  },
  {
   "cell_type": "code",
   "execution_count": 145,
   "metadata": {},
   "outputs": [
    {
     "data": {
      "text/plain": [
       "<matplotlib.axes._subplots.AxesSubplot at 0x7fccf416c7d0>"
      ]
     },
     "execution_count": 145,
     "metadata": {},
     "output_type": "execute_result"
    },
    {
     "data": {
      "image/png": "[encoded data removed]",
      "text/plain": [
       "<Figure size 864x576 with 1 Axes>"
      ]
     },
     "metadata": {
      "needs_background": "light"
     },
     "output_type": "display_data"
    }
   ],
   "source": [
    "# plot prediction vs. true values (zoomed version)\n",
    "train_temp_df[value_field].plot(legend=True, label='TRAIN')\n",
    "test_temp_df[value_field].plot(legend=True, label='TEST', figsize=(12,8))\n",
    "hw_prediction.plot(legend=True, label='PREDICTION', xlim=[2000, 2300])"
   ]
  },
  {
   "cell_type": "markdown",
   "metadata": {},
   "source": [
    "#### Evaluating Prediction"
   ]
  },
  {
   "cell_type": "code",
   "execution_count": 116,
   "metadata": {},
   "outputs": [],
   "source": [
    "from sklearn.metrics import mean_squared_error, mean_absolute_error"
   ]
  },
  {
   "cell_type": "code",
   "execution_count": 152,
   "metadata": {},
   "outputs": [
    {
     "data": {
      "text/plain": [
       "count   150.00000\n",
       "mean      4.31333\n",
       "std       3.82246\n",
       "min       0.00000\n",
       "25%       0.40000\n",
       "50%       4.00000\n",
       "75%       7.30000\n",
       "max      12.10000\n",
       "Name: max, dtype: float64"
      ]
     },
     "execution_count": 152,
     "metadata": {},
     "output_type": "execute_result"
    }
   ],
   "source": [
    "# work-around the problem that test_data has 151 items while hw_prediction has 150\n",
    "test_data = test_data.iloc[0:150]\n",
    "\n",
    "test_data.describe()"
   ]
  },
  {
   "cell_type": "code",
   "execution_count": 153,
   "metadata": {},
   "outputs": [
    {
     "data": {
      "text/plain": [
       "count   150.00000\n",
       "mean      6.18199\n",
       "std       3.99299\n",
       "min       0.77234\n",
       "25%       2.30274\n",
       "50%       5.98216\n",
       "75%       9.46358\n",
       "max      14.85202\n",
       "dtype: float64"
      ]
     },
     "execution_count": 153,
     "metadata": {},
     "output_type": "execute_result"
    }
   ],
   "source": [
    "hw_prediction.describe()"
   ]
  },
  {
   "cell_type": "markdown",
   "metadata": {},
   "source": [
    "The average of test data value is: 4.31  \n",
    "The average of prediction value is: 6.18"
   ]
  },
  {
   "cell_type": "code",
   "execution_count": 156,
   "metadata": {},
   "outputs": [
    {
     "data": {
      "text/plain": [
       "2.651184915194323"
      ]
     },
     "execution_count": 156,
     "metadata": {},
     "output_type": "execute_result"
    }
   ],
   "source": [
    "mae = mean_absolute_error(test_data, hw_prediction)\n",
    "\n",
    "mae"
   ]
  },
  {
   "cell_type": "code",
   "execution_count": 157,
   "metadata": {},
   "outputs": [
    {
     "data": {
      "text/plain": [
       "11.86542878058621"
      ]
     },
     "execution_count": 157,
     "metadata": {},
     "output_type": "execute_result"
    }
   ],
   "source": [
    "mse = mean_squared_error(test_data, hw_prediction)\n",
    "\n",
    "mse"
   ]
  },
  {
   "cell_type": "code",
   "execution_count": 158,
   "metadata": {},
   "outputs": [
    {
     "data": {
      "text/plain": [
       "3.44462316960596"
      ]
     },
     "execution_count": 158,
     "metadata": {},
     "output_type": "execute_result"
    }
   ],
   "source": [
    "rmse = np.sqrt(mse)\n",
    "\n",
    "rmse"
   ]
  },
  {
   "cell_type": "markdown",
   "metadata": {},
   "source": [
    "#### Holt-Winters completely failed to predict  \n",
    "rmse = 3.44 vs. test data STD = 3.82: Error in form of RMSE is almost 90% of STD => BAD"
   ]
  },
  {
   "cell_type": "markdown",
   "metadata": {},
   "source": [
    "#### But let see how it can be used to forecasting future"
   ]
  },
  {
   "cell_type": "code",
   "execution_count": 161,
   "metadata": {},
   "outputs": [
    {
     "data": {
      "text/plain": [
       "2245"
      ]
     },
     "execution_count": 161,
     "metadata": {},
     "output_type": "execute_result"
    }
   ],
   "source": [
    "# construct the full dataset of the station\n",
    "full_data = df.loc[df['code'] == station_code, value_field]\n",
    "\n",
    "if adjustment == 'multiplicative':\n",
    "    full_data = full_data[full_data > 0.02]\n",
    "    \n",
    "full_data.count()"
   ]
  },
  {
   "cell_type": "code",
   "execution_count": 162,
   "metadata": {},
   "outputs": [
    {
     "name": "stderr",
     "output_type": "stream",
     "text": [
      "/home/kenneth/anaconda3/envs/salinization/lib/python3.7/site-packages/statsmodels/tsa/base/tsa_model.py:218: ValueWarning: A date index has been provided, but it has no associated frequency information and so will be ignored when e.g. forecasting.\n",
      "  ' ignored when e.g. forecasting.', ValueWarning)\n",
      "/home/kenneth/anaconda3/envs/salinization/lib/python3.7/site-packages/scipy/optimize/optimize.py:697: RuntimeWarning: overflow encountered in double_scalars\n",
      "  df = (f(*((xk + d,) + args)) - f0) / d[k]\n",
      "/home/kenneth/anaconda3/envs/salinization/lib/python3.7/site-packages/statsmodels/tsa/holtwinters.py:744: ConvergenceWarning: Optimization failed to converge. Check mle_retvals.\n",
      "  ConvergenceWarning)\n"
     ]
    }
   ],
   "source": [
    "# re-train model on the full dataset of the station\n",
    "hw_final_model = ExponentialSmoothing(full_data, \n",
    "                                      trend=adjustment, \n",
    "                                      seasonal=adjustment, \n",
    "                                      seasonal_periods=season_length).fit()"
   ]
  },
  {
   "cell_type": "code",
   "execution_count": 166,
   "metadata": {},
   "outputs": [
    {
     "name": "stderr",
     "output_type": "stream",
     "text": [
      "/home/kenneth/anaconda3/envs/salinization/lib/python3.7/site-packages/statsmodels/tsa/base/tsa_model.py:583: ValueWarning: No supported index is available. Prediction results will be given with an integer index beginning at `start`.\n",
      "  ValueWarning)\n"
     ]
    },
    {
     "data": {
      "text/plain": [
       "2245   0.38432\n",
       "2246   0.39847\n",
       "2247   0.38198\n",
       "2248   0.31243\n",
       "2249   0.31904\n",
       "dtype: float64"
      ]
     },
     "execution_count": 166,
     "metadata": {},
     "output_type": "execute_result"
    }
   ],
   "source": [
    "# predict for 2019\n",
    "hw_next_year_forecast = hw_final_model.forecast(season_length)\n",
    "\n",
    "hw_next_year_forecast.head()"
   ]
  },
  {
   "cell_type": "code",
   "execution_count": 164,
   "metadata": {},
   "outputs": [
    {
     "data": {
      "text/html": [
       "<div>\n",
       "<style scoped>\n",
       "    .dataframe tbody tr th:only-of-type {\n",
       "        vertical-align: middle;\n",
       "    }\n",
       "\n",
       "    .dataframe tbody tr th {\n",
       "        vertical-align: top;\n",
       "    }\n",
       "\n",
       "    .dataframe thead th {\n",
       "        text-align: right;\n",
       "    }\n",
       "</style>\n",
       "<table border=\"1\" class=\"dataframe\">\n",
       "  <thead>\n",
       "    <tr style=\"text-align: right;\">\n",
       "      <th></th>\n",
       "      <th>date</th>\n",
       "      <th>max</th>\n",
       "    </tr>\n",
       "  </thead>\n",
       "  <tbody>\n",
       "    <tr>\n",
       "      <th>2240</th>\n",
       "      <td>2018-05-27</td>\n",
       "      <td>0.50000</td>\n",
       "    </tr>\n",
       "    <tr>\n",
       "      <th>2241</th>\n",
       "      <td>2018-05-28</td>\n",
       "      <td>0.40000</td>\n",
       "    </tr>\n",
       "    <tr>\n",
       "      <th>2242</th>\n",
       "      <td>2018-05-29</td>\n",
       "      <td>0.40000</td>\n",
       "    </tr>\n",
       "    <tr>\n",
       "      <th>2243</th>\n",
       "      <td>2018-05-30</td>\n",
       "      <td>0.40000</td>\n",
       "    </tr>\n",
       "    <tr>\n",
       "      <th>2244</th>\n",
       "      <td>2018-05-31</td>\n",
       "      <td>0.30000</td>\n",
       "    </tr>\n",
       "  </tbody>\n",
       "</table>\n",
       "</div>"
      ],
      "text/plain": [
       "           date     max\n",
       "2240 2018-05-27 0.50000\n",
       "2241 2018-05-28 0.40000\n",
       "2242 2018-05-29 0.40000\n",
       "2243 2018-05-30 0.40000\n",
       "2244 2018-05-31 0.30000"
      ]
     },
     "execution_count": 164,
     "metadata": {},
     "output_type": "execute_result"
    }
   ],
   "source": [
    "# since there are missing timestamps, reset index to integer\n",
    "full_temp_df = full_data.reset_index()\n",
    "\n",
    "full_temp_df.tail()"
   ]
  },
  {
   "cell_type": "code",
   "execution_count": 169,
   "metadata": {},
   "outputs": [
    {
     "data": {
      "text/plain": [
       "<matplotlib.axes._subplots.AxesSubplot at 0x7fccef50be90>"
      ]
     },
     "execution_count": 169,
     "metadata": {},
     "output_type": "execute_result"
    },
    {
     "data": {
      "image/png": "[encoded data removed]",
      "text/plain": [
       "<Figure size 864x576 with 1 Axes>"
      ]
     },
     "metadata": {
      "needs_background": "light"
     },
     "output_type": "display_data"
    }
   ],
   "source": [
    "# plot\n",
    "full_temp_df[value_field].plot(figsize=(12,8))\n",
    "hw_next_year_forecast.plot()"
   ]
  },
  {
   "cell_type": "markdown",
   "metadata": {},
   "source": [
    "#### Clearly failed to forecast  \n",
    "Something wrong with the seasonal_periods = 150 (5 months) causing:  \n",
    "1. RuntimeWarning: overflow encountered in double_scalars: df = (f(*((xk + d,) + args)) - f0) / d[k]\n",
    "2. ConvergenceWarning: Optimization failed to converge. Check mle_retvals"
   ]
  },
  {
   "cell_type": "markdown",
   "metadata": {},
   "source": [
    "### Mentor: Could you help me explain why these are happening?"
   ]
  },
  {
   "cell_type": "markdown",
   "metadata": {},
   "source": [
    "2. Other simple model goes here"
   ]
  },
  {
   "cell_type": "markdown",
   "metadata": {},
   "source": [
    "### ARIMA models on a specific station: SONDOC"
   ]
  },
  {
   "cell_type": "markdown",
   "metadata": {},
   "source": [
    "1. Using AR component"
   ]
  },
  {
   "cell_type": "code",
   "execution_count": 170,
   "metadata": {},
   "outputs": [],
   "source": [
    "from statsmodels.tsa.ar_model import AR, ARResults"
   ]
  },
  {
   "cell_type": "code",
   "execution_count": 171,
   "metadata": {},
   "outputs": [],
   "source": [
    "train_data = train_df.loc[train_df['code'] == station_code, value_field]\n",
    "test_data = test_df.loc[test_df['code'] == station_code, value_field]"
   ]
  },
  {
   "cell_type": "code",
   "execution_count": 174,
   "metadata": {},
   "outputs": [
    {
     "name": "stderr",
     "output_type": "stream",
     "text": [
      "/home/kenneth/anaconda3/envs/salinization/lib/python3.7/site-packages/statsmodels/tsa/base/tsa_model.py:218: ValueWarning: A date index has been provided, but it has no associated frequency information and so will be ignored when e.g. forecasting.\n",
      "  ' ignored when e.g. forecasting.', ValueWarning)\n"
     ]
    },
    {
     "name": "stdout",
     "output_type": "stream",
     "text": [
      "Lag: 25\n",
      "Coefficients:\n",
      "const      0.21625\n",
      "L1.max     0.82348\n",
      "L2.max     0.08352\n",
      "L3.max    -0.03620\n",
      "L4.max     0.03022\n",
      "L5.max     0.04232\n",
      "L6.max     0.00315\n",
      "L7.max     0.02721\n",
      "L8.max    -0.03415\n",
      "L9.max     0.03898\n",
      "L10.max   -0.02037\n",
      "L11.max   -0.01971\n",
      "L12.max    0.05511\n",
      "L13.max   -0.00431\n",
      "L14.max   -0.05736\n",
      "L15.max    0.02058\n",
      "L16.max    0.08980\n",
      "L17.max   -0.07049\n",
      "L18.max    0.02514\n",
      "L19.max    0.00576\n",
      "L20.max   -0.00950\n",
      "L21.max   -0.06537\n",
      "L22.max    0.04898\n",
      "L23.max    0.00856\n",
      "L24.max    0.01796\n",
      "L25.max   -0.03807\n",
      "dtype: float64\n"
     ]
    }
   ],
   "source": [
    "model = AR(train_data)\n",
    "\n",
    "ARfit = model.fit(method='mle', ic='t-stat')\n",
    "\n",
    "lags = ARfit.k_ar\n",
    "\n",
    "print(f'Lag: {lags}')\n",
    "print(f'Coefficients:\\n{ARfit.params}')"
   ]
  },
  {
   "cell_type": "code",
   "execution_count": 177,
   "metadata": {},
   "outputs": [
    {
     "name": "stderr",
     "output_type": "stream",
     "text": [
      "/home/kenneth/anaconda3/envs/salinization/lib/python3.7/site-packages/statsmodels/tsa/base/tsa_model.py:583: ValueWarning: No supported index is available. Prediction results will be given with an integer index beginning at `start`.\n",
      "  ValueWarning)\n"
     ]
    }
   ],
   "source": [
    "ARprediction = ARfit.predict(start=len(train_data), end=len(train_data) + len(test_data) - 1).rename(f'AR({lags}) Prediction')"
   ]
  },
  {
   "cell_type": "code",
   "execution_count": 180,
   "metadata": {},
   "outputs": [
    {
     "data": {
      "image/png": "[encoded data removed]",
      "text/plain": [
       "<Figure size 864x432 with 1 Axes>"
      ]
     },
     "metadata": {
      "needs_background": "light"
     },
     "output_type": "display_data"
    }
   ],
   "source": [
    "test_temp_df[value_field].plot(legend=True)\n",
    "ARprediction.plot(legend=True,figsize=(12,6));"
   ]
  }
 ],
 "metadata": {
  "kernelspec": {
   "display_name": "Python 3",
   "language": "python",
   "name": "python3"
  },
  "language_info": {
   "codemirror_mode": {
    "name": "ipython",
    "version": 3
   },
   "file_extension": ".py",
   "mimetype": "text/x-python",
   "name": "python",
   "nbconvert_exporter": "python",
   "pygments_lexer": "ipython3",
   "version": "3.7.6"
  }
 },
 "nbformat": 4,
 "nbformat_minor": 2
}
