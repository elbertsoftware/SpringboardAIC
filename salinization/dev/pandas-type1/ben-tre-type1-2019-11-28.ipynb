{
 "cells": [
  {
   "cell_type": "markdown",
   "metadata": {},
   "source": [
    "## Run the following cells for either Experiment Code or Full Run"
   ]
  },
  {
   "cell_type": "code",
   "execution_count": 1,
   "metadata": {
    "colab": {
     "base_uri": "https://localhost:8080/",
     "height": 141
    },
    "colab_type": "code",
    "id": "DXo5cIRgicNT",
    "outputId": "8b835a87-cf3a-410f-8852-1e723d7be6c8"
   },
   "outputs": [],
   "source": [
    "import numpy as np\n",
    "import pandas as pd\n",
    "\n",
    "import unidecode\n",
    "from datetime import datetime"
   ]
  },
  {
   "cell_type": "code",
   "execution_count": 2,
   "metadata": {
    "colab": {},
    "colab_type": "code",
    "id": "PlW0MFHVVhxx"
   },
   "outputs": [],
   "source": [
    "# configure df options\n",
    "pd.set_option('display.max_rows', 10)\n",
    "pd.set_option('display.max_columns', 10)\n",
    "pd.set_option('display.width', 20)"
   ]
  },
  {
   "cell_type": "code",
   "execution_count": 3,
   "metadata": {},
   "outputs": [],
   "source": [
    "input_path = '../../dataset/bentre'\n",
    "input_files = {\n",
    "    'So Lieu Man Ben Tre 2016.xlsx': [2, 5],  # GHoa, MHoa\n",
    "    'So Lieu Man Ben Tre 2017.xlsx': [4],  # MHoa\n",
    "    'So Lieu Man Ben Tre 2018.xlsx': [0, 1, 2, 3, 4, 5, 6, 7],  # Vam Giong, Binh Dai, Giao Hoa, An Thuan, Son Doc, My Hoa, Ben Trai, Huong My\n",
    "}"
   ]
  },
  {
   "cell_type": "code",
   "execution_count": 4,
   "metadata": {},
   "outputs": [],
   "source": [
    "output_path = '../../dataset/csv/type1'"
   ]
  },
  {
   "cell_type": "code",
   "execution_count": 5,
   "metadata": {},
   "outputs": [],
   "source": [
    "output_columns = [\n",
    "    'code',\n",
    "    'date',\n",
    "    'min',\n",
    "    'max',\n",
    "]"
   ]
  },
  {
   "cell_type": "code",
   "execution_count": 6,
   "metadata": {},
   "outputs": [],
   "source": [
    "# define method to be applied toward new column 'date'\n",
    "def calculate_date(row):\n",
    "    date = None\n",
    "    try: \n",
    "        date = datetime(year=year, month=(row['month'] // 2) + 1, day=row['day'])\n",
    "    except ValueError:  # handle invalid days of months, such as 02/31\n",
    "        pass\n",
    "        \n",
    "    return date"
   ]
  },
  {
   "cell_type": "markdown",
   "metadata": {},
   "source": [
    "## Experiment Code"
   ]
  },
  {
   "cell_type": "code",
   "execution_count": 7,
   "metadata": {},
   "outputs": [
    {
     "data": {
      "text/plain": [
       "'So Lieu Man Ben Tre 2018.xlsx'"
      ]
     },
     "execution_count": 7,
     "metadata": {},
     "output_type": "execute_result"
    }
   ],
   "source": [
    "file = list(input_files.keys())[2]\n",
    "\n",
    "file"
   ]
  },
  {
   "cell_type": "code",
   "execution_count": 8,
   "metadata": {},
   "outputs": [
    {
     "data": {
      "text/plain": [
       "[0, 1, 2, 3, 4, 5, 6, 7]"
      ]
     },
     "execution_count": 8,
     "metadata": {},
     "output_type": "execute_result"
    }
   ],
   "source": [
    "sheets = input_files[file]\n",
    "\n",
    "sheets"
   ]
  },
  {
   "cell_type": "code",
   "execution_count": 10,
   "metadata": {},
   "outputs": [
    {
     "data": {
      "text/plain": [
       "'../../dataset/bentre/So Lieu Man Ben Tre 2018.xlsx'"
      ]
     },
     "execution_count": 10,
     "metadata": {},
     "output_type": "execute_result"
    }
   ],
   "source": [
    "# read excel file\n",
    "filename = f'{input_path}/{file}'\n",
    "excel = pd.ExcelFile(filename)\n",
    "\n",
    "filename"
   ]
  },
  {
   "cell_type": "code",
   "execution_count": 11,
   "metadata": {},
   "outputs": [
    {
     "name": "stdout",
     "output_type": "stream",
     "text": [
      "<class 'pandas.core.frame.DataFrame'>\n",
      "RangeIndex: 37 entries, 0 to 36\n",
      "Data columns (total 11 columns):\n",
      "ĐÀI KTTV KHU VỰC NAM BỘ    37 non-null object\n",
      "Unnamed: 1                 34 non-null object\n",
      "Unnamed: 2                 33 non-null object\n",
      "BIỂU GHI ĐỘ MẶN (g/l)      32 non-null object\n",
      "Unnamed: 4                 30 non-null object\n",
      "Unnamed: 5                 34 non-null object\n",
      "Unnamed: 6                 34 non-null object\n",
      "Unnamed: 7                 33 non-null object\n",
      "Unnamed: 8                 32 non-null object\n",
      "Unnamed: 9                 35 non-null object\n",
      "Unnamed: 10                33 non-null object\n",
      "dtypes: object(11)\n",
      "memory usage: 3.3+ KB\n"
     ]
    }
   ],
   "source": [
    "# read a sheet\n",
    "df = pd.read_excel(excel, sheet_name=sheets[0])\n",
    "\n",
    "df.info()"
   ]
  },
  {
   "cell_type": "code",
   "execution_count": 12,
   "metadata": {
    "scrolled": true
   },
   "outputs": [
    {
     "data": {
      "text/html": [
       "<div>\n",
       "<style scoped>\n",
       "    .dataframe tbody tr th:only-of-type {\n",
       "        vertical-align: middle;\n",
       "    }\n",
       "\n",
       "    .dataframe tbody tr th {\n",
       "        vertical-align: top;\n",
       "    }\n",
       "\n",
       "    .dataframe thead th {\n",
       "        text-align: right;\n",
       "    }\n",
       "</style>\n",
       "<table border=\"1\" class=\"dataframe\">\n",
       "  <thead>\n",
       "    <tr style=\"text-align: right;\">\n",
       "      <th></th>\n",
       "      <th>ĐÀI KTTV KHU VỰC NAM BỘ</th>\n",
       "      <th>Unnamed: 1</th>\n",
       "      <th>Unnamed: 2</th>\n",
       "      <th>BIỂU GHI ĐỘ MẶN (g/l)</th>\n",
       "      <th>Unnamed: 4</th>\n",
       "      <th>...</th>\n",
       "      <th>Unnamed: 6</th>\n",
       "      <th>Unnamed: 7</th>\n",
       "      <th>Unnamed: 8</th>\n",
       "      <th>Unnamed: 9</th>\n",
       "      <th>Unnamed: 10</th>\n",
       "    </tr>\n",
       "  </thead>\n",
       "  <tbody>\n",
       "    <tr>\n",
       "      <th>0</th>\n",
       "      <td>ĐÀI KTTV TỈNH TIỀN GIANG</td>\n",
       "      <td>NaN</td>\n",
       "      <td>NaN</td>\n",
       "      <td>NaN</td>\n",
       "      <td>NaN</td>\n",
       "      <td>...</td>\n",
       "      <td>NaN</td>\n",
       "      <td>NaN</td>\n",
       "      <td>NaN</td>\n",
       "      <td>NaN</td>\n",
       "      <td>NaN</td>\n",
       "    </tr>\n",
       "    <tr>\n",
       "      <th>1</th>\n",
       "      <td>Trạm: Vàm Giồng</td>\n",
       "      <td>NaN</td>\n",
       "      <td>NaN</td>\n",
       "      <td>Sông/Kênh: Cửa Tiểu</td>\n",
       "      <td>NaN</td>\n",
       "      <td>...</td>\n",
       "      <td>Tỉnh: Tiền Giang</td>\n",
       "      <td>NaN</td>\n",
       "      <td>NaN</td>\n",
       "      <td>Năm 2018</td>\n",
       "      <td>NaN</td>\n",
       "    </tr>\n",
       "    <tr>\n",
       "      <th>2</th>\n",
       "      <td>Tháng</td>\n",
       "      <td>1</td>\n",
       "      <td>NaN</td>\n",
       "      <td>2</td>\n",
       "      <td>NaN</td>\n",
       "      <td>...</td>\n",
       "      <td>NaN</td>\n",
       "      <td>4</td>\n",
       "      <td>NaN</td>\n",
       "      <td>5</td>\n",
       "      <td>NaN</td>\n",
       "    </tr>\n",
       "    <tr>\n",
       "      <th>3</th>\n",
       "      <td>Ngày</td>\n",
       "      <td>Max</td>\n",
       "      <td>Min</td>\n",
       "      <td>Max</td>\n",
       "      <td>Min</td>\n",
       "      <td>...</td>\n",
       "      <td>Min</td>\n",
       "      <td>Max</td>\n",
       "      <td>Min</td>\n",
       "      <td>Max</td>\n",
       "      <td>Min</td>\n",
       "    </tr>\n",
       "    <tr>\n",
       "      <th>4</th>\n",
       "      <td>1</td>\n",
       "      <td>0</td>\n",
       "      <td>0</td>\n",
       "      <td>2</td>\n",
       "      <td>0</td>\n",
       "      <td>...</td>\n",
       "      <td>0</td>\n",
       "      <td>4.7</td>\n",
       "      <td>0.5</td>\n",
       "      <td>2.4</td>\n",
       "      <td>0.2</td>\n",
       "    </tr>\n",
       "  </tbody>\n",
       "</table>\n",
       "<p>5 rows × 11 columns</p>\n",
       "</div>"
      ],
      "text/plain": [
       "       ĐÀI KTTV KHU VỰC NAM BỘ  \\\n",
       "0     ĐÀI KTTV TỈNH TIỀN GIANG   \n",
       "1              Trạm: Vàm Giồng   \n",
       "2                        Tháng   \n",
       "3                         Ngày   \n",
       "4                            1   \n",
       "\n",
       "  Unnamed: 1  \\\n",
       "0        NaN   \n",
       "1        NaN   \n",
       "2          1   \n",
       "3        Max   \n",
       "4          0   \n",
       "\n",
       "  Unnamed: 2  \\\n",
       "0        NaN   \n",
       "1        NaN   \n",
       "2        NaN   \n",
       "3        Min   \n",
       "4          0   \n",
       "\n",
       "  BIỂU GHI ĐỘ MẶN (g/l)  \\\n",
       "0                   NaN   \n",
       "1   Sông/Kênh: Cửa Tiểu   \n",
       "2                     2   \n",
       "3                   Max   \n",
       "4                     2   \n",
       "\n",
       "  Unnamed: 4  ...  \\\n",
       "0        NaN  ...   \n",
       "1        NaN  ...   \n",
       "2        NaN  ...   \n",
       "3        Min  ...   \n",
       "4          0  ...   \n",
       "\n",
       "         Unnamed: 6  \\\n",
       "0               NaN   \n",
       "1  Tỉnh: Tiền Giang   \n",
       "2               NaN   \n",
       "3               Min   \n",
       "4                 0   \n",
       "\n",
       "  Unnamed: 7  \\\n",
       "0        NaN   \n",
       "1        NaN   \n",
       "2          4   \n",
       "3        Max   \n",
       "4        4.7   \n",
       "\n",
       "  Unnamed: 8  \\\n",
       "0        NaN   \n",
       "1        NaN   \n",
       "2        NaN   \n",
       "3        Min   \n",
       "4        0.5   \n",
       "\n",
       "  Unnamed: 9  \\\n",
       "0        NaN   \n",
       "1   Năm 2018   \n",
       "2          5   \n",
       "3        Max   \n",
       "4        2.4   \n",
       "\n",
       "  Unnamed: 10  \n",
       "0         NaN  \n",
       "1         NaN  \n",
       "2         NaN  \n",
       "3         Min  \n",
       "4         0.2  \n",
       "\n",
       "[5 rows x 11 columns]"
      ]
     },
     "execution_count": 12,
     "metadata": {},
     "output_type": "execute_result"
    }
   ],
   "source": [
    "df.head()"
   ]
  },
  {
   "cell_type": "code",
   "execution_count": 13,
   "metadata": {},
   "outputs": [
    {
     "data": {
      "text/plain": [
       "'THANG'"
      ]
     },
     "execution_count": 13,
     "metadata": {},
     "output_type": "execute_result"
    }
   ],
   "source": [
    "# extract station and convert it to station code\n",
    "station = df.iloc[2][0]\n",
    "station = station[station.find(':') + 1:].strip()\n",
    "station = unidecode.unidecode(station).upper().replace(' ', '')\n",
    "\n",
    "station"
   ]
  },
  {
   "cell_type": "code",
   "execution_count": null,
   "metadata": {},
   "outputs": [],
   "source": [
    "# extract year\n",
    "year = df.iloc[2][11]\n",
    "year = int(year[-4:])\n",
    "\n",
    "year"
   ]
  },
  {
   "cell_type": "code",
   "execution_count": null,
   "metadata": {},
   "outputs": [],
   "source": [
    "# name columns\n",
    "df.columns = [i for i in range(len(df.columns))]\n",
    "\n",
    "df.head()"
   ]
  },
  {
   "cell_type": "code",
   "execution_count": null,
   "metadata": {},
   "outputs": [],
   "source": [
    "# drop non-data rows: first 5 ones\n",
    "df.drop([*range(5)], inplace=True)\n",
    "    \n",
    "df.head()"
   ]
  },
  {
   "cell_type": "code",
   "execution_count": null,
   "metadata": {},
   "outputs": [],
   "source": [
    "# merge max + min column pairs into ones for unpivot\n",
    "for c in range(1, len(df.columns), 2):\n",
    "    df.iloc[:, c] = df.iloc[:, c + 1].astype('str') + '/' + df.iloc[:, c].astype('str')\n",
    "    \n",
    "df.head()"
   ]
  },
  {
   "cell_type": "code",
   "execution_count": null,
   "metadata": {},
   "outputs": [],
   "source": [
    "# drop even columns (min ones)\n",
    "df.drop([*range(2, len(df.columns), 2)], axis=1, inplace=True)\n",
    "\n",
    "df.head()"
   ]
  },
  {
   "cell_type": "code",
   "execution_count": null,
   "metadata": {},
   "outputs": [],
   "source": [
    "# unpivot the dataframe from wide (column based) format to long (row based) one\n",
    "df = df.melt(id_vars=[0], var_name='month', value_name='min/max')\n",
    "\n",
    "df.head()"
   ]
  },
  {
   "cell_type": "code",
   "execution_count": null,
   "metadata": {},
   "outputs": [],
   "source": [
    "# rename first column\n",
    "df.rename(columns={ 0: 'day'}, inplace=True)\n",
    "\n",
    "df.head()"
   ]
  },
  {
   "cell_type": "code",
   "execution_count": null,
   "metadata": {},
   "outputs": [],
   "source": [
    "# remove summary row if any\n",
    "df.drop(df[df['day'] == 'Max/min'].index, errors='ignore', inplace=True)\n",
    "\n",
    "df.tail()"
   ]
  },
  {
   "cell_type": "code",
   "execution_count": null,
   "metadata": {},
   "outputs": [],
   "source": [
    "# add station code column\n",
    "df.insert(0, output_columns[0], station)\n",
    "    \n",
    "df.head()"
   ]
  },
  {
   "cell_type": "code",
   "execution_count": null,
   "metadata": {},
   "outputs": [],
   "source": [
    "# calculate 'date' column\n",
    "df[output_columns[1]] = df.apply(calculate_date, axis=1)\n",
    "\n",
    "df.head()"
   ]
  },
  {
   "cell_type": "code",
   "execution_count": null,
   "metadata": {},
   "outputs": [],
   "source": [
    "# reconstruct min and max columns\n",
    "df[[output_columns[2], output_columns[3]]] = df['min/max'].str.split('/', expand=True)\n",
    "\n",
    "df.head()"
   ]
  },
  {
   "cell_type": "code",
   "execution_count": null,
   "metadata": {},
   "outputs": [],
   "source": [
    "# drop unnecessary columns\n",
    "df.drop(['day', 'month', 'min/max'], axis=1, inplace=True)\n",
    "\n",
    "df.head()"
   ]
  },
  {
   "cell_type": "code",
   "execution_count": null,
   "metadata": {},
   "outputs": [],
   "source": [
    "# review invalid date rows\n",
    "df[df['date'].isnull()]"
   ]
  },
  {
   "cell_type": "code",
   "execution_count": null,
   "metadata": {},
   "outputs": [],
   "source": [
    "# check row counts before dropping\n",
    "df.info()"
   ]
  },
  {
   "cell_type": "code",
   "execution_count": null,
   "metadata": {},
   "outputs": [],
   "source": [
    "# drop all rows that invalid dates\n",
    "df.drop(df[df['date'].isnull()].index, inplace=True)\n",
    "\n",
    "df.info()"
   ]
  },
  {
   "cell_type": "code",
   "execution_count": null,
   "metadata": {},
   "outputs": [],
   "source": [
    "# review head rows\n",
    "df.head()"
   ]
  },
  {
   "cell_type": "code",
   "execution_count": null,
   "metadata": {},
   "outputs": [],
   "source": [
    "# review tail rows\n",
    "df.tail()"
   ]
  },
  {
   "cell_type": "code",
   "execution_count": null,
   "metadata": {},
   "outputs": [],
   "source": [
    "# convert min and max columns to float dtype\n",
    "df['min'] = pd.to_numeric(df['min'], downcast='float', errors='coerce')\n",
    "df['max'] = pd.to_numeric(df['max'], downcast='float', errors='coerce')\n",
    "\n",
    "df.info()"
   ]
  },
  {
   "cell_type": "code",
   "execution_count": null,
   "metadata": {},
   "outputs": [],
   "source": [
    "# drop all rows that have less than 3 columns filled out: both min and max are missing\n",
    "df.dropna(thresh=3, inplace=True)\n",
    "\n",
    "df.info()"
   ]
  },
  {
   "cell_type": "code",
   "execution_count": null,
   "metadata": {},
   "outputs": [],
   "source": [
    "df.tail()"
   ]
  },
  {
   "cell_type": "code",
   "execution_count": null,
   "metadata": {},
   "outputs": [],
   "source": [
    "# save to csv file\n",
    "df.to_csv(f'{output_path}/{year}-{station}.csv', index = False)"
   ]
  },
  {
   "cell_type": "markdown",
   "metadata": {},
   "source": [
    "## Automation Code"
   ]
  },
  {
   "cell_type": "code",
   "execution_count": null,
   "metadata": {},
   "outputs": [],
   "source": [
    "for file in input_files.keys():\n",
    "    # read excel file\n",
    "    filename = f'{input_path}/{file}'\n",
    "    print(f'Processing file: {filename}')\n",
    " \n",
    "    for sheet in input_files[file]:\n",
    "        print(f'Processing sheet: {sheet}')"
   ]
  }
 ],
 "metadata": {
  "colab": {
   "collapsed_sections": [],
   "name": "Type 2 So Lieu Ben Tre 2016 .ipynb",
   "provenance": []
  },
  "kernelspec": {
   "display_name": "Python 3",
   "language": "python",
   "name": "python3"
  },
  "language_info": {
   "codemirror_mode": {
    "name": "ipython",
    "version": 3
   },
   "file_extension": ".py",
   "mimetype": "text/x-python",
   "name": "python",
   "nbconvert_exporter": "python",
   "pygments_lexer": "ipython3",
   "version": "3.7.5"
  }
 },
 "nbformat": 4,
 "nbformat_minor": 1
}
