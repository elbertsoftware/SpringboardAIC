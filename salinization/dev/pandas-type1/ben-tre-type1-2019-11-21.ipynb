{
 "cells": [
  {
   "cell_type": "markdown",
   "metadata": {},
   "source": [
    "## Run the following cells for either Experiment Code or Full Run"
   ]
  },
  {
   "cell_type": "code",
   "execution_count": 1,
   "metadata": {
    "colab": {
     "base_uri": "https://localhost:8080/",
     "height": 141
    },
    "colab_type": "code",
    "id": "DXo5cIRgicNT",
    "outputId": "8b835a87-cf3a-410f-8852-1e723d7be6c8"
   },
   "outputs": [],
   "source": [
    "import numpy as np\n",
    "import pandas as pd\n",
    "\n",
    "import unidecode\n",
    "from datetime import datetime"
   ]
  },
  {
   "cell_type": "code",
   "execution_count": 2,
   "metadata": {
    "colab": {},
    "colab_type": "code",
    "id": "PlW0MFHVVhxx"
   },
   "outputs": [],
   "source": [
    "# configure df options\n",
    "pd.set_option('display.max_rows', 10)\n",
    "pd.set_option('display.max_columns', 10)\n",
    "pd.set_option('display.width', 20)"
   ]
  },
  {
   "cell_type": "code",
   "execution_count": 3,
   "metadata": {},
   "outputs": [],
   "source": [
    "input_path = '../../dataset/bentre'\n",
    "input_files = {\n",
    "    'So Lieu Man Ben Tre 2016.xlsx': [2, 5],\n",
    "}"
   ]
  },
  {
   "cell_type": "code",
   "execution_count": 4,
   "metadata": {},
   "outputs": [],
   "source": [
    "output_path = '../../dataset/csv/type1'"
   ]
  },
  {
   "cell_type": "code",
   "execution_count": 5,
   "metadata": {},
   "outputs": [],
   "source": [
    "output_columns = [\n",
    "    'code',\n",
    "    'date',\n",
    "    'min',\n",
    "    'max',\n",
    "]"
   ]
  },
  {
   "cell_type": "code",
   "execution_count": 6,
   "metadata": {},
   "outputs": [],
   "source": [
    "# define method to be applied toward new column 'date'\n",
    "def calculate_date(row):\n",
    "    date = None\n",
    "    try: \n",
    "        date = datetime(year=year, month=(row['month'] // 2) + 1, day=row['day'])\n",
    "    except ValueError:  # handle invalid days of months, such as 02/31\n",
    "        pass\n",
    "        \n",
    "    return date"
   ]
  },
  {
   "cell_type": "markdown",
   "metadata": {},
   "source": [
    "## Experiment Code"
   ]
  },
  {
   "cell_type": "code",
   "execution_count": null,
   "metadata": {},
   "outputs": [],
   "source": [
    "file = list(input_files.keys())[0]\n",
    "file"
   ]
  },
  {
   "cell_type": "code",
   "execution_count": null,
   "metadata": {},
   "outputs": [],
   "source": [
    "sheets = input_files[file]\n",
    "sheets"
   ]
  },
  {
   "cell_type": "code",
   "execution_count": null,
   "metadata": {},
   "outputs": [],
   "source": [
    "# read excel file\n",
    "filename = f'{input_path}/{file}'\n",
    "excel = pd.ExcelFile(filename)"
   ]
  },
  {
   "cell_type": "code",
   "execution_count": null,
   "metadata": {},
   "outputs": [],
   "source": [
    "# read a sheet\n",
    "df = pd.read_excel(excel, sheet_name=sheets[1])\n",
    "\n",
    "df.info()"
   ]
  },
  {
   "cell_type": "code",
   "execution_count": null,
   "metadata": {
    "scrolled": true
   },
   "outputs": [],
   "source": [
    "df.head()"
   ]
  },
  {
   "cell_type": "code",
   "execution_count": null,
   "metadata": {},
   "outputs": [],
   "source": [
    "# extract station and convert it to station code\n",
    "station = df.iloc[2][0]\n",
    "station = station[station.find(':') + 1:].strip()\n",
    "station = unidecode.unidecode(station).upper().replace(' ', '')\n",
    "\n",
    "station"
   ]
  },
  {
   "cell_type": "code",
   "execution_count": null,
   "metadata": {},
   "outputs": [],
   "source": [
    "# extract year\n",
    "year = df.iloc[2][11]\n",
    "year = int(year[-4:])\n",
    "\n",
    "year"
   ]
  },
  {
   "cell_type": "code",
   "execution_count": null,
   "metadata": {},
   "outputs": [],
   "source": [
    "# name columns\n",
    "df.columns = [i for i in range(len(df.columns))]\n",
    "\n",
    "df.head()"
   ]
  },
  {
   "cell_type": "code",
   "execution_count": null,
   "metadata": {},
   "outputs": [],
   "source": [
    "# drop non-data rows: first 5 ones\n",
    "df.drop([*range(5)], inplace=True)\n",
    "    \n",
    "df.head()"
   ]
  },
  {
   "cell_type": "code",
   "execution_count": null,
   "metadata": {},
   "outputs": [],
   "source": [
    "# merge max + min column pairs into ones for unpivot\n",
    "for c in range(1, len(df.columns), 2):\n",
    "    df.iloc[:, c] = df.iloc[:, c + 1].astype('str') + '/' + df.iloc[:, c].astype('str')\n",
    "    \n",
    "df.head()"
   ]
  },
  {
   "cell_type": "code",
   "execution_count": null,
   "metadata": {},
   "outputs": [],
   "source": [
    "# drop even columns (min ones)\n",
    "df.drop([*range(2, len(df.columns), 2)], axis=1, inplace=True)\n",
    "\n",
    "df.head()"
   ]
  },
  {
   "cell_type": "code",
   "execution_count": null,
   "metadata": {},
   "outputs": [],
   "source": [
    "# unpivot the dataframe from wide (column based) format to long (row based) one\n",
    "df = df.melt(id_vars=[0], var_name='month', value_name='min/max')\n",
    "\n",
    "df.head()"
   ]
  },
  {
   "cell_type": "code",
   "execution_count": null,
   "metadata": {},
   "outputs": [],
   "source": [
    "# rename first column\n",
    "df.rename(columns={ 0: 'day'}, inplace=True)\n",
    "\n",
    "df.head()"
   ]
  },
  {
   "cell_type": "code",
   "execution_count": null,
   "metadata": {},
   "outputs": [],
   "source": [
    "# remove summary row if any\n",
    "df.drop(df[df['day'] == 'Max/min'].index, errors='ignore', inplace=True)\n",
    "\n",
    "df.tail()"
   ]
  },
  {
   "cell_type": "code",
   "execution_count": null,
   "metadata": {},
   "outputs": [],
   "source": [
    "# add station code column\n",
    "df.insert(0, output_columns[0], station)\n",
    "    \n",
    "df.head()"
   ]
  },
  {
   "cell_type": "code",
   "execution_count": null,
   "metadata": {},
   "outputs": [],
   "source": [
    "# calculate 'date' column\n",
    "df[output_columns[1]] = df.apply(calculate_date, axis=1)\n",
    "\n",
    "df.head()"
   ]
  },
  {
   "cell_type": "code",
   "execution_count": null,
   "metadata": {},
   "outputs": [],
   "source": [
    "# reconstruct min and max columns\n",
    "df[[output_columns[2], output_columns[3]]] = df['min/max'].str.split('/', expand=True)\n",
    "\n",
    "df.head()"
   ]
  },
  {
   "cell_type": "code",
   "execution_count": null,
   "metadata": {},
   "outputs": [],
   "source": [
    "# drop unnecessary columns\n",
    "df.drop(['day', 'month', 'min/max'], axis=1, inplace=True)\n",
    "\n",
    "df.head()"
   ]
  },
  {
   "cell_type": "code",
   "execution_count": null,
   "metadata": {},
   "outputs": [],
   "source": [
    "# review invalid date rows\n",
    "df[df['date'].isnull()]"
   ]
  },
  {
   "cell_type": "code",
   "execution_count": null,
   "metadata": {},
   "outputs": [],
   "source": [
    "# check row counts before dropping\n",
    "df.info()"
   ]
  },
  {
   "cell_type": "code",
   "execution_count": null,
   "metadata": {},
   "outputs": [],
   "source": [
    "# drop all rows that invalid dates\n",
    "df.drop(df[df['date'].isnull()].index, inplace=True)\n",
    "\n",
    "df.info()"
   ]
  },
  {
   "cell_type": "code",
   "execution_count": null,
   "metadata": {},
   "outputs": [],
   "source": [
    "# review head rows\n",
    "df.head()"
   ]
  },
  {
   "cell_type": "code",
   "execution_count": null,
   "metadata": {},
   "outputs": [],
   "source": [
    "# review tail rows\n",
    "df.tail()"
   ]
  },
  {
   "cell_type": "code",
   "execution_count": null,
   "metadata": {},
   "outputs": [],
   "source": [
    "# convert min and max columns to float dtype\n",
    "df['min'] = pd.to_numeric(df['min'], downcast='float', errors='coerce')\n",
    "df['max'] = pd.to_numeric(df['max'], downcast='float', errors='coerce')\n",
    "\n",
    "df.info()"
   ]
  },
  {
   "cell_type": "code",
   "execution_count": null,
   "metadata": {},
   "outputs": [],
   "source": [
    "# drop all rows that have less than 3 columns filled out: both min and max are missing\n",
    "df.dropna(thresh=3, inplace=True)\n",
    "\n",
    "df.info()"
   ]
  },
  {
   "cell_type": "code",
   "execution_count": null,
   "metadata": {},
   "outputs": [],
   "source": [
    "df.tail()"
   ]
  },
  {
   "cell_type": "code",
   "execution_count": null,
   "metadata": {},
   "outputs": [],
   "source": [
    "# save to csv file\n",
    "df.to_csv(f'{output_path}/{year}-{station}.csv', index = False)"
   ]
  },
  {
   "cell_type": "markdown",
   "metadata": {},
   "source": [
    "## Full Run: Process all configured files and their sheets"
   ]
  },
  {
   "cell_type": "code",
   "execution_count": 8,
   "metadata": {},
   "outputs": [
    {
     "name": "stdout",
     "output_type": "stream",
     "text": [
      "Processing file: ../../dataset/bentre/So Lieu Man Ben Tre 2016.xlsx\n",
      "Processing sheet: 2\n",
      "Processing sheet: 5\n"
     ]
    }
   ],
   "source": [
    "for file in input_files.keys():\n",
    "    # read excel file\n",
    "    filename = f'{input_path}/{file}'\n",
    "    print(f'Processing file: {filename}')\n",
    "    \n",
    "    excel = pd.ExcelFile(filename)\n",
    "\n",
    "    for sheet in input_files[file]:\n",
    "        print(f'Processing sheet: {sheet}')\n",
    "        \n",
    "        # read a sheet\n",
    "        df = pd.read_excel(excel, sheet_name=sheet)\n",
    "        \n",
    "        # extract station and convert it to station code\n",
    "        station = df.iloc[2][0]\n",
    "        station = station[station.find(':') + 1:].strip()\n",
    "        station = unidecode.unidecode(station).upper().replace(' ', '')\n",
    "        \n",
    "        # extract year\n",
    "        year = df.iloc[2][11]\n",
    "        year = int(year[-4:])\n",
    "\n",
    "        # name columns\n",
    "        df.columns = [i for i in range(len(df.columns))]\n",
    "        \n",
    "        # drop non-data rows: first 5 ones\n",
    "        df.drop([*range(5)], inplace=True)\n",
    "        \n",
    "        # merge max + min column pairs into ones for unpivot\n",
    "        for c in range(1, len(df.columns), 2):\n",
    "            df.iloc[:, c] = df.iloc[:, c + 1].astype('str') + '/' + df.iloc[:, c].astype('str')\n",
    "            \n",
    "        # drop even columns (min ones)\n",
    "        df.drop([*range(2, len(df.columns), 2)], axis=1, inplace=True)\n",
    "        \n",
    "        # unpivot the dataframe from wide (column based) format to long (row based) one\n",
    "        df = df.melt(id_vars=[0], var_name='month', value_name='min/max')\n",
    "        \n",
    "        # rename first column\n",
    "        df.rename(columns={ 0: 'day'}, inplace=True)\n",
    "        \n",
    "        # remove summary row if any\n",
    "        df.drop(df[df['day'] == 'Max/min'].index, errors='ignore', inplace=True)\n",
    "        \n",
    "        # add station code column\n",
    "        df.insert(0, output_columns[0], station)\n",
    "        \n",
    "        # calculate 'date' column\n",
    "        df[output_columns[1]] = df.apply(calculate_date, axis=1)\n",
    "        \n",
    "        # reconstruct min and max columns\n",
    "        df[[output_columns[2], output_columns[3]]] = df['min/max'].str.split('/', expand=True)\n",
    "        \n",
    "        # drop unnecessary columns\n",
    "        df.drop(['day', 'month', 'min/max'], axis=1, inplace=True)\n",
    "        \n",
    "        # drop all rows that invalid dates\n",
    "        df.drop(df[df['date'].isnull()].index, inplace=True)\n",
    "        \n",
    "        # convert min and max columns to float dtype\n",
    "        df['min'] = pd.to_numeric(df['min'], downcast='float', errors='coerce')\n",
    "        df['max'] = pd.to_numeric(df['max'], downcast='float', errors='coerce')\n",
    "        \n",
    "        # drop all rows that have less than 3 columns filled out: both min and max are missing\n",
    "        df.dropna(thresh=3, inplace=True)\n",
    "        \n",
    "        # save to csv file\n",
    "        df.to_csv(f'{output_path}/{year}-{station}.csv', index = False)"
   ]
  }
 ],
 "metadata": {
  "colab": {
   "collapsed_sections": [],
   "name": "Type 2 So Lieu Ben Tre 2016 .ipynb",
   "provenance": []
  },
  "kernelspec": {
   "display_name": "Python 3",
   "language": "python",
   "name": "python3"
  },
  "language_info": {
   "codemirror_mode": {
    "name": "ipython",
    "version": 3
   },
   "file_extension": ".py",
   "mimetype": "text/x-python",
   "name": "python",
   "nbconvert_exporter": "python",
   "pygments_lexer": "ipython3",
   "version": "3.7.5"
  }
 },
 "nbformat": 4,
 "nbformat_minor": 1
}
