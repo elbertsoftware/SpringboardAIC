{
 "cells": [
  {
   "cell_type": "code",
   "execution_count": 1,
   "metadata": {
    "scrolled": false
   },
   "outputs": [],
   "source": [
    "import pandas as pd\n",
    "\n",
    "import matplotlib.pyplot as plt\n",
    "%matplotlib inline"
   ]
  },
  {
   "cell_type": "code",
   "execution_count": 2,
   "metadata": {
    "scrolled": false
   },
   "outputs": [],
   "source": [
    "# configure df options\n",
    "pd.set_option('display.max_rows', None)\n",
    "pd.set_option('display.max_columns', None)\n",
    "pd.set_option('display.width', None)\n",
    "pd.set_option('display.max_colwidth', None)\n",
    "\n",
    "pd.options.display.float_format = '{:,.5f}'.format"
   ]
  },
  {
   "cell_type": "markdown",
   "metadata": {},
   "source": [
    "### Read true raw samples"
   ]
  },
  {
   "cell_type": "code",
   "execution_count": 3,
   "metadata": {},
   "outputs": [],
   "source": [
    "df = pd.read_csv('../../../dataset/final/bentre-cleaned.csv', parse_dates=['date'])"
   ]
  },
  {
   "cell_type": "code",
   "execution_count": 4,
   "metadata": {},
   "outputs": [],
   "source": [
    "df.set_index('date', inplace=True)"
   ]
  },
  {
   "cell_type": "code",
   "execution_count": 5,
   "metadata": {},
   "outputs": [],
   "source": [
    "# sort by date index\n",
    "df.sort_index(inplace=True)"
   ]
  },
  {
   "cell_type": "code",
   "execution_count": 6,
   "metadata": {},
   "outputs": [
    {
     "name": "stdout",
     "output_type": "stream",
     "text": [
      "<class 'pandas.core.frame.DataFrame'>\n",
      "DatetimeIndex: 15106 entries, 2002-01-01 to 2018-05-31\n",
      "Data columns (total 6 columns):\n",
      " #   Column  Non-Null Count  Dtype  \n",
      "---  ------  --------------  -----  \n",
      " 0   code    15106 non-null  object \n",
      " 1   min     15010 non-null  float64\n",
      " 2   max     15106 non-null  float64\n",
      " 3   x       13596 non-null  float64\n",
      " 4   y       13596 non-null  float64\n",
      " 5   cm      13596 non-null  float64\n",
      "dtypes: float64(5), object(1)\n",
      "memory usage: 826.1+ KB\n"
     ]
    }
   ],
   "source": [
    "df.info()"
   ]
  },
  {
   "cell_type": "code",
   "execution_count": 7,
   "metadata": {},
   "outputs": [
    {
     "data": {
      "text/html": [
       "<div>\n",
       "<style scoped>\n",
       "    .dataframe tbody tr th:only-of-type {\n",
       "        vertical-align: middle;\n",
       "    }\n",
       "\n",
       "    .dataframe tbody tr th {\n",
       "        vertical-align: top;\n",
       "    }\n",
       "\n",
       "    .dataframe thead th {\n",
       "        text-align: right;\n",
       "    }\n",
       "</style>\n",
       "<table border=\"1\" class=\"dataframe\">\n",
       "  <thead>\n",
       "    <tr style=\"text-align: right;\">\n",
       "      <th></th>\n",
       "      <th>code</th>\n",
       "      <th>min</th>\n",
       "      <th>max</th>\n",
       "      <th>x</th>\n",
       "      <th>y</th>\n",
       "      <th>cm</th>\n",
       "    </tr>\n",
       "    <tr>\n",
       "      <th>date</th>\n",
       "      <th></th>\n",
       "      <th></th>\n",
       "      <th></th>\n",
       "      <th></th>\n",
       "      <th></th>\n",
       "      <th></th>\n",
       "    </tr>\n",
       "  </thead>\n",
       "  <tbody>\n",
       "    <tr>\n",
       "      <th>2002-01-01</th>\n",
       "      <td>ANTHUAN</td>\n",
       "      <td>3.50000</td>\n",
       "      <td>6.00000</td>\n",
       "      <td>106.57215</td>\n",
       "      <td>9.99752</td>\n",
       "      <td>0.00000</td>\n",
       "    </tr>\n",
       "    <tr>\n",
       "      <th>2002-01-01</th>\n",
       "      <td>LOCTHUAN</td>\n",
       "      <td>0.00000</td>\n",
       "      <td>0.00000</td>\n",
       "      <td>106.59743</td>\n",
       "      <td>10.24030</td>\n",
       "      <td>274.32000</td>\n",
       "    </tr>\n",
       "    <tr>\n",
       "      <th>2002-01-01</th>\n",
       "      <td>SONDOC</td>\n",
       "      <td>0.10000</td>\n",
       "      <td>0.30000</td>\n",
       "      <td>106.52635</td>\n",
       "      <td>10.02522</td>\n",
       "      <td>30.48000</td>\n",
       "    </tr>\n",
       "    <tr>\n",
       "      <th>2002-01-01</th>\n",
       "      <td>BENTRAI</td>\n",
       "      <td>0.20000</td>\n",
       "      <td>1.00000</td>\n",
       "      <td>106.53715</td>\n",
       "      <td>9.87584</td>\n",
       "      <td>0.00000</td>\n",
       "    </tr>\n",
       "    <tr>\n",
       "      <th>2002-01-01</th>\n",
       "      <td>BINHDAI</td>\n",
       "      <td>0.50000</td>\n",
       "      <td>2.00000</td>\n",
       "      <td>106.69681</td>\n",
       "      <td>10.20635</td>\n",
       "      <td>152.40000</td>\n",
       "    </tr>\n",
       "  </tbody>\n",
       "</table>\n",
       "</div>"
      ],
      "text/plain": [
       "                code     min     max         x        y        cm\n",
       "date                                                             \n",
       "2002-01-01   ANTHUAN 3.50000 6.00000 106.57215  9.99752   0.00000\n",
       "2002-01-01  LOCTHUAN 0.00000 0.00000 106.59743 10.24030 274.32000\n",
       "2002-01-01    SONDOC 0.10000 0.30000 106.52635 10.02522  30.48000\n",
       "2002-01-01   BENTRAI 0.20000 1.00000 106.53715  9.87584   0.00000\n",
       "2002-01-01   BINHDAI 0.50000 2.00000 106.69681 10.20635 152.40000"
      ]
     },
     "execution_count": 7,
     "metadata": {},
     "output_type": "execute_result"
    }
   ],
   "source": [
    "df.head()"
   ]
  },
  {
   "cell_type": "code",
   "execution_count": 8,
   "metadata": {},
   "outputs": [
    {
     "data": {
      "text/html": [
       "<div>\n",
       "<style scoped>\n",
       "    .dataframe tbody tr th:only-of-type {\n",
       "        vertical-align: middle;\n",
       "    }\n",
       "\n",
       "    .dataframe tbody tr th {\n",
       "        vertical-align: top;\n",
       "    }\n",
       "\n",
       "    .dataframe thead th {\n",
       "        text-align: right;\n",
       "    }\n",
       "</style>\n",
       "<table border=\"1\" class=\"dataframe\">\n",
       "  <thead>\n",
       "    <tr style=\"text-align: right;\">\n",
       "      <th></th>\n",
       "      <th>code</th>\n",
       "      <th>min</th>\n",
       "      <th>max</th>\n",
       "      <th>x</th>\n",
       "      <th>y</th>\n",
       "      <th>cm</th>\n",
       "    </tr>\n",
       "    <tr>\n",
       "      <th>date</th>\n",
       "      <th></th>\n",
       "      <th></th>\n",
       "      <th></th>\n",
       "      <th></th>\n",
       "      <th></th>\n",
       "      <th></th>\n",
       "    </tr>\n",
       "  </thead>\n",
       "  <tbody>\n",
       "    <tr>\n",
       "      <th>2018-05-31</th>\n",
       "      <td>MOCAY</td>\n",
       "      <td>0.10000</td>\n",
       "      <td>0.10000</td>\n",
       "      <td>106.28399</td>\n",
       "      <td>10.08130</td>\n",
       "      <td>670.56000</td>\n",
       "    </tr>\n",
       "    <tr>\n",
       "      <th>2018-05-31</th>\n",
       "      <td>LOCTHUAN</td>\n",
       "      <td>0.00000</td>\n",
       "      <td>0.00000</td>\n",
       "      <td>106.59743</td>\n",
       "      <td>10.24030</td>\n",
       "      <td>274.32000</td>\n",
       "    </tr>\n",
       "    <tr>\n",
       "      <th>2018-05-31</th>\n",
       "      <td>PHUOCLONG</td>\n",
       "      <td>0.10000</td>\n",
       "      <td>0.10000</td>\n",
       "      <td>106.40969</td>\n",
       "      <td>10.13223</td>\n",
       "      <td>396.24000</td>\n",
       "    </tr>\n",
       "    <tr>\n",
       "      <th>2018-05-31</th>\n",
       "      <td>TANTHIENG</td>\n",
       "      <td>0.00000</td>\n",
       "      <td>0.00000</td>\n",
       "      <td>106.21894</td>\n",
       "      <td>10.15931</td>\n",
       "      <td>518.16000</td>\n",
       "    </tr>\n",
       "    <tr>\n",
       "      <th>2018-05-31</th>\n",
       "      <td>SONPHU</td>\n",
       "      <td>0.00000</td>\n",
       "      <td>0.00000</td>\n",
       "      <td>106.38150</td>\n",
       "      <td>10.17611</td>\n",
       "      <td>731.52000</td>\n",
       "    </tr>\n",
       "  </tbody>\n",
       "</table>\n",
       "</div>"
      ],
      "text/plain": [
       "                 code     min     max         x        y        cm\n",
       "date                                                              \n",
       "2018-05-31      MOCAY 0.10000 0.10000 106.28399 10.08130 670.56000\n",
       "2018-05-31   LOCTHUAN 0.00000 0.00000 106.59743 10.24030 274.32000\n",
       "2018-05-31  PHUOCLONG 0.10000 0.10000 106.40969 10.13223 396.24000\n",
       "2018-05-31  TANTHIENG 0.00000 0.00000 106.21894 10.15931 518.16000\n",
       "2018-05-31     SONPHU 0.00000 0.00000 106.38150 10.17611 731.52000"
      ]
     },
     "execution_count": 8,
     "metadata": {},
     "output_type": "execute_result"
    }
   ],
   "source": [
    "df.tail()"
   ]
  },
  {
   "cell_type": "markdown",
   "metadata": {},
   "source": [
    "#### Reread prepared test samples"
   ]
  },
  {
   "cell_type": "code",
   "execution_count": 9,
   "metadata": {},
   "outputs": [
    {
     "data": {
      "text/plain": [
       "SONDOC             2271\n",
       "LOCTHUAN           2154\n",
       "BENTRAI            2108\n",
       "BINHDAI            2108\n",
       "ANTHUAN            2108\n",
       "MYHOA               308\n",
       "TICHTHIEN           302\n",
       "TIENTHUY            302\n",
       "TANTHIENG           302\n",
       "MOCAY               302\n",
       "PHUOCLONG           302\n",
       "GIAOHOA             182\n",
       "LANGTHE             151\n",
       "CAMSON              151\n",
       "HUNGKHANHTRUNGB     151\n",
       "THANHTHOIA          151\n",
       "MYVAN               151\n",
       "TRACU               151\n",
       "VUNGLIEM            151\n",
       "VANGQUOITAY         151\n",
       "CAIMIT              151\n",
       "CAIHOP              151\n",
       "CONGNANGAM          151\n",
       "SONPHU              151\n",
       "MYTHANH             151\n",
       "BENCHUA             151\n",
       "RACHRUM             151\n",
       "HUONGMY              92\n",
       "Name: code, dtype: int64"
      ]
     },
     "execution_count": 9,
     "metadata": {},
     "output_type": "execute_result"
    }
   ],
   "source": [
    "data_points = df['code'].value_counts()\n",
    "\n",
    "data_points"
   ]
  },
  {
   "cell_type": "code",
   "execution_count": 10,
   "metadata": {},
   "outputs": [],
   "source": [
    "# save all station codes sorted by number of samples\n",
    "data_points.to_csv(f'../../data/station/stations.csv', columns=[], index=True, index_label='code')"
   ]
  },
  {
   "cell_type": "code",
   "execution_count": 11,
   "metadata": {},
   "outputs": [
    {
     "data": {
      "text/plain": [
       "Index(['SONDOC', 'LOCTHUAN', 'BENTRAI', 'BINHDAI', 'ANTHUAN', 'MYHOA',\n",
       "       'TICHTHIEN', 'TIENTHUY', 'TANTHIENG', 'MOCAY', 'PHUOCLONG', 'GIAOHOA',\n",
       "       'LANGTHE', 'CAMSON', 'HUNGKHANHTRUNGB', 'THANHTHOIA', 'MYVAN', 'TRACU',\n",
       "       'VUNGLIEM', 'VANGQUOITAY', 'CAIMIT', 'CAIHOP', 'CONGNANGAM', 'SONPHU',\n",
       "       'MYTHANH', 'BENCHUA', 'RACHRUM', 'HUONGMY'],\n",
       "      dtype='object')"
      ]
     },
     "execution_count": 11,
     "metadata": {},
     "output_type": "execute_result"
    }
   ],
   "source": [
    "# get all station codes sorted by number of samples\n",
    "station_codes = data_points.index\n",
    "\n",
    "station_codes"
   ]
  },
  {
   "cell_type": "markdown",
   "metadata": {},
   "source": [
    "### Experiment the code on one station of a specific year (JUMP TO FULL IMPLEMENTATION)"
   ]
  },
  {
   "cell_type": "code",
   "execution_count": 12,
   "metadata": {},
   "outputs": [],
   "source": [
    "station_code = 'BINHDAI'\n",
    "test_year = 2012"
   ]
  },
  {
   "cell_type": "code",
   "execution_count": 13,
   "metadata": {},
   "outputs": [],
   "source": [
    "test_df = df[(df['code'] == station_code) & (df.index.year == test_year)][['code', 'min', 'max']]"
   ]
  },
  {
   "cell_type": "code",
   "execution_count": 14,
   "metadata": {},
   "outputs": [
    {
     "name": "stdout",
     "output_type": "stream",
     "text": [
      "<class 'pandas.core.frame.DataFrame'>\n",
      "DatetimeIndex: 63 entries, 2012-02-01 to 2012-06-29\n",
      "Data columns (total 3 columns):\n",
      " #   Column  Non-Null Count  Dtype  \n",
      "---  ------  --------------  -----  \n",
      " 0   code    63 non-null     object \n",
      " 1   min     63 non-null     float64\n",
      " 2   max     63 non-null     float64\n",
      "dtypes: float64(2), object(1)\n",
      "memory usage: 2.0+ KB\n"
     ]
    }
   ],
   "source": [
    "test_df.info()"
   ]
  },
  {
   "cell_type": "code",
   "execution_count": 15,
   "metadata": {},
   "outputs": [
    {
     "data": {
      "text/html": [
       "<div>\n",
       "<style scoped>\n",
       "    .dataframe tbody tr th:only-of-type {\n",
       "        vertical-align: middle;\n",
       "    }\n",
       "\n",
       "    .dataframe tbody tr th {\n",
       "        vertical-align: top;\n",
       "    }\n",
       "\n",
       "    .dataframe thead th {\n",
       "        text-align: right;\n",
       "    }\n",
       "</style>\n",
       "<table border=\"1\" class=\"dataframe\">\n",
       "  <thead>\n",
       "    <tr style=\"text-align: right;\">\n",
       "      <th></th>\n",
       "      <th>code</th>\n",
       "      <th>min</th>\n",
       "      <th>max</th>\n",
       "    </tr>\n",
       "    <tr>\n",
       "      <th>date</th>\n",
       "      <th></th>\n",
       "      <th></th>\n",
       "      <th></th>\n",
       "    </tr>\n",
       "  </thead>\n",
       "  <tbody>\n",
       "    <tr>\n",
       "      <th>2012-02-01</th>\n",
       "      <td>BINHDAI</td>\n",
       "      <td>0.77500</td>\n",
       "      <td>11.25000</td>\n",
       "    </tr>\n",
       "    <tr>\n",
       "      <th>2012-02-02</th>\n",
       "      <td>BINHDAI</td>\n",
       "      <td>0.92500</td>\n",
       "      <td>14.67500</td>\n",
       "    </tr>\n",
       "    <tr>\n",
       "      <th>2012-02-03</th>\n",
       "      <td>BINHDAI</td>\n",
       "      <td>2.12500</td>\n",
       "      <td>16.37500</td>\n",
       "    </tr>\n",
       "    <tr>\n",
       "      <th>2012-02-09</th>\n",
       "      <td>BINHDAI</td>\n",
       "      <td>3.80000</td>\n",
       "      <td>16.30000</td>\n",
       "    </tr>\n",
       "    <tr>\n",
       "      <th>2012-02-10</th>\n",
       "      <td>BINHDAI</td>\n",
       "      <td>3.40000</td>\n",
       "      <td>17.87500</td>\n",
       "    </tr>\n",
       "  </tbody>\n",
       "</table>\n",
       "</div>"
      ],
      "text/plain": [
       "               code     min      max\n",
       "date                                \n",
       "2012-02-01  BINHDAI 0.77500 11.25000\n",
       "2012-02-02  BINHDAI 0.92500 14.67500\n",
       "2012-02-03  BINHDAI 2.12500 16.37500\n",
       "2012-02-09  BINHDAI 3.80000 16.30000\n",
       "2012-02-10  BINHDAI 3.40000 17.87500"
      ]
     },
     "execution_count": 15,
     "metadata": {},
     "output_type": "execute_result"
    }
   ],
   "source": [
    "test_df.head()"
   ]
  },
  {
   "cell_type": "code",
   "execution_count": 16,
   "metadata": {},
   "outputs": [
    {
     "data": {
      "text/html": [
       "<div>\n",
       "<style scoped>\n",
       "    .dataframe tbody tr th:only-of-type {\n",
       "        vertical-align: middle;\n",
       "    }\n",
       "\n",
       "    .dataframe tbody tr th {\n",
       "        vertical-align: top;\n",
       "    }\n",
       "\n",
       "    .dataframe thead th {\n",
       "        text-align: right;\n",
       "    }\n",
       "</style>\n",
       "<table border=\"1\" class=\"dataframe\">\n",
       "  <thead>\n",
       "    <tr style=\"text-align: right;\">\n",
       "      <th></th>\n",
       "      <th>code</th>\n",
       "      <th>min</th>\n",
       "      <th>max</th>\n",
       "    </tr>\n",
       "    <tr>\n",
       "      <th>date</th>\n",
       "      <th></th>\n",
       "      <th></th>\n",
       "      <th></th>\n",
       "    </tr>\n",
       "  </thead>\n",
       "  <tbody>\n",
       "    <tr>\n",
       "      <th>2012-06-24</th>\n",
       "      <td>BINHDAI</td>\n",
       "      <td>1.25000</td>\n",
       "      <td>10.77500</td>\n",
       "    </tr>\n",
       "    <tr>\n",
       "      <th>2012-06-25</th>\n",
       "      <td>BINHDAI</td>\n",
       "      <td>0.30000</td>\n",
       "      <td>12.05000</td>\n",
       "    </tr>\n",
       "    <tr>\n",
       "      <th>2012-06-27</th>\n",
       "      <td>BINHDAI</td>\n",
       "      <td>0.80000</td>\n",
       "      <td>14.00000</td>\n",
       "    </tr>\n",
       "    <tr>\n",
       "      <th>2012-06-28</th>\n",
       "      <td>BINHDAI</td>\n",
       "      <td>2.10000</td>\n",
       "      <td>13.35000</td>\n",
       "    </tr>\n",
       "    <tr>\n",
       "      <th>2012-06-29</th>\n",
       "      <td>BINHDAI</td>\n",
       "      <td>1.42500</td>\n",
       "      <td>16.75000</td>\n",
       "    </tr>\n",
       "  </tbody>\n",
       "</table>\n",
       "</div>"
      ],
      "text/plain": [
       "               code     min      max\n",
       "date                                \n",
       "2012-06-24  BINHDAI 1.25000 10.77500\n",
       "2012-06-25  BINHDAI 0.30000 12.05000\n",
       "2012-06-27  BINHDAI 0.80000 14.00000\n",
       "2012-06-28  BINHDAI 2.10000 13.35000\n",
       "2012-06-29  BINHDAI 1.42500 16.75000"
      ]
     },
     "execution_count": 16,
     "metadata": {},
     "output_type": "execute_result"
    }
   ],
   "source": [
    "test_df.tail()"
   ]
  },
  {
   "cell_type": "code",
   "execution_count": 17,
   "metadata": {},
   "outputs": [
    {
     "data": {
      "image/png": "[encoded data removed]",
      "text/plain": [
       "<Figure size 1296x648 with 1 Axes>"
      ]
     },
     "metadata": {
      "needs_background": "light"
     },
     "output_type": "display_data"
    }
   ],
   "source": [
    "# plot\n",
    "test_df[['min', 'max']].plot(figsize=(18, 9), legend=True);"
   ]
  },
  {
   "cell_type": "code",
   "execution_count": 18,
   "metadata": {},
   "outputs": [],
   "source": [
    "# save test dataset\n",
    "test_df.to_csv(f'../../data/evaluation/{station_code}-{test_year}.csv', index=True, index_label='date')"
   ]
  },
  {
   "cell_type": "markdown",
   "metadata": {},
   "source": [
    "### Full Implementation"
   ]
  },
  {
   "cell_type": "code",
   "execution_count": 19,
   "metadata": {},
   "outputs": [],
   "source": [
    "# station samples by year\n",
    "for station_code in station_codes:\n",
    "    for test_year in range(2011, 2019):\n",
    "        test_df = df[(df['code'] == station_code) & (df.index.year == test_year)][['code', 'min', 'max']]\n",
    "        if len(test_df) > 0:\n",
    "            test_df.to_csv(f'../../data/evaluation/{station_code}-{test_year}.csv', index=True, index_label='date')"
   ]
  }
 ],
 "metadata": {
  "kernelspec": {
   "display_name": "Python 3",
   "language": "python",
   "name": "python3"
  },
  "language_info": {
   "codemirror_mode": {
    "name": "ipython",
    "version": 3
   },
   "file_extension": ".py",
   "mimetype": "text/x-python",
   "name": "python",
   "nbconvert_exporter": "python",
   "pygments_lexer": "ipython3",
   "version": "3.7.6"
  }
 },
 "nbformat": 4,
 "nbformat_minor": 2
}
