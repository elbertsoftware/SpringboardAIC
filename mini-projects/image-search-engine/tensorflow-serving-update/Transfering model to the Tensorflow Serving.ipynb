{
 "cells": [
  {
   "cell_type": "code",
   "execution_count": 1,
   "metadata": {},
   "outputs": [],
   "source": [
    "#Importing dependencies\n",
    "#Tensorflow\n",
    "import tensorflow as tf\n",
    "#importing model builder from the tensorflow serving\n",
    "from tensorflow.python.saved_model import builder as saved_model_builder\n",
    "#signature_constants are used to sign models inputs and outputs\n",
    "from tensorflow.python.saved_model import signature_constants\n",
    "#nesto\n",
    "from tensorflow.python.saved_model import signature_def_utils\n",
    "#give tags to each input/output so we can call it from the client api\n",
    "from tensorflow.python.saved_model import tag_constants\n",
    "#tensor builder\n",
    "from tensorflow.python.saved_model.utils import build_tensor_info"
   ]
  },
  {
   "cell_type": "code",
   "execution_count": 2,
   "metadata": {},
   "outputs": [],
   "source": [
    "#Import model\n",
    "from model import ImageSearchModel\n",
    "#import config\n",
    "import config as cfg"
   ]
  },
  {
   "cell_type": "code",
   "execution_count": 3,
   "metadata": {},
   "outputs": [],
   "source": [
    "#Define the model\n",
    "model = ImageSearchModel(cfg.LEARNING_RATE, cfg.IMAGE_SIZE, cfg.NUMBER_OF_CLASSES)"
   ]
  },
  {
   "cell_type": "code",
   "execution_count": 4,
   "metadata": {},
   "outputs": [
    {
     "data": {
      "text/plain": [
       "'dense_1/Relu:0'"
      ]
     },
     "execution_count": 4,
     "metadata": {},
     "output_type": "execute_result"
    }
   ],
   "source": [
    "model.dense_2_features.name"
   ]
  },
  {
   "cell_type": "code",
   "execution_count": 5,
   "metadata": {},
   "outputs": [
    {
     "data": {
      "text/plain": [
       "'dense_3/Relu:0'"
      ]
     },
     "execution_count": 5,
     "metadata": {},
     "output_type": "execute_result"
    }
   ],
   "source": [
    "model.dense_4_features.name"
   ]
  },
  {
   "cell_type": "code",
   "execution_count": 6,
   "metadata": {},
   "outputs": [
    {
     "data": {
      "text/plain": [
       "'dropout_probs:0'"
      ]
     },
     "execution_count": 6,
     "metadata": {},
     "output_type": "execute_result"
    }
   ],
   "source": [
    "model.dropout_rate.name"
   ]
  },
  {
   "cell_type": "code",
   "execution_count": 7,
   "metadata": {},
   "outputs": [],
   "source": [
    "#Define session\n",
    "session = tf.Session()"
   ]
  },
  {
   "cell_type": "code",
   "execution_count": 8,
   "metadata": {},
   "outputs": [],
   "source": [
    "#init model params\n",
    "session.run(tf.global_variables_initializer())"
   ]
  },
  {
   "cell_type": "code",
   "execution_count": 9,
   "metadata": {},
   "outputs": [],
   "source": [
    "#define saver\n",
    "saver = tf.train.Saver()"
   ]
  },
  {
   "cell_type": "code",
   "execution_count": 10,
   "metadata": {},
   "outputs": [
    {
     "name": "stdout",
     "output_type": "stream",
     "text": [
      "INFO:tensorflow:Restoring parameters from saver/model_epoch_5.ckpt\n"
     ]
    }
   ],
   "source": [
    "#restore the model\n",
    "saver.restore(session, 'saver/model_epoch_5.ckpt')"
   ]
  },
  {
   "cell_type": "code",
   "execution_count": 11,
   "metadata": {},
   "outputs": [],
   "source": [
    "#get model inputs and outputs by tensor name\n",
    "model_inputs = session.graph.get_tensor_by_name(\"images:0\")\n",
    "model_inputs_drop_rate = session.graph.get_tensor_by_name('dropout_probs:0')\n",
    "model_dense_2 = session.graph.get_tensor_by_name('dense_1/Relu:0')\n",
    "model_dense_4 = session.graph.get_tensor_by_name('dense_3/Relu:0')"
   ]
  },
  {
   "cell_type": "code",
   "execution_count": 12,
   "metadata": {},
   "outputs": [],
   "source": [
    "#build meta data around the fatched tensors\n",
    "model_input_ = build_tensor_info(model_inputs)\n",
    "model_inputs_drop_ = build_tensor_info(model_inputs_drop_rate)\n",
    "model_output_dense_2 = build_tensor_info(model_dense_2)\n",
    "model_output_dense_4 = build_tensor_info(model_dense_4)"
   ]
  },
  {
   "cell_type": "code",
   "execution_count": 13,
   "metadata": {},
   "outputs": [
    {
     "data": {
      "text/plain": [
       "name: \"images:0\"\n",
       "dtype: DT_FLOAT\n",
       "tensor_shape {\n",
       "  dim {\n",
       "    size: -1\n",
       "  }\n",
       "  dim {\n",
       "    size: 32\n",
       "  }\n",
       "  dim {\n",
       "    size: 32\n",
       "  }\n",
       "  dim {\n",
       "    size: 3\n",
       "  }\n",
       "}"
      ]
     },
     "execution_count": 13,
     "metadata": {},
     "output_type": "execute_result"
    }
   ],
   "source": [
    "model_input_"
   ]
  },
  {
   "cell_type": "code",
   "execution_count": 14,
   "metadata": {},
   "outputs": [
    {
     "data": {
      "text/plain": [
       "name: \"dropout_probs:0\"\n",
       "dtype: DT_FLOAT\n",
       "tensor_shape {\n",
       "  unknown_rank: true\n",
       "}"
      ]
     },
     "execution_count": 14,
     "metadata": {},
     "output_type": "execute_result"
    }
   ],
   "source": [
    "model_inputs_drop_"
   ]
  },
  {
   "cell_type": "code",
   "execution_count": 15,
   "metadata": {},
   "outputs": [
    {
     "data": {
      "text/plain": [
       "name: \"dense_1/Relu:0\"\n",
       "dtype: DT_FLOAT\n",
       "tensor_shape {\n",
       "  dim {\n",
       "    size: -1\n",
       "  }\n",
       "  dim {\n",
       "    size: 256\n",
       "  }\n",
       "}"
      ]
     },
     "execution_count": 15,
     "metadata": {},
     "output_type": "execute_result"
    }
   ],
   "source": [
    "model_output_dense_2"
   ]
  },
  {
   "cell_type": "code",
   "execution_count": 16,
   "metadata": {},
   "outputs": [
    {
     "data": {
      "text/plain": [
       "name: \"dense_3/Relu:0\"\n",
       "dtype: DT_FLOAT\n",
       "tensor_shape {\n",
       "  dim {\n",
       "    size: -1\n",
       "  }\n",
       "  dim {\n",
       "    size: 1024\n",
       "  }\n",
       "}"
      ]
     },
     "execution_count": 16,
     "metadata": {},
     "output_type": "execute_result"
    }
   ],
   "source": [
    "model_output_dense_4"
   ]
  },
  {
   "cell_type": "code",
   "execution_count": 17,
   "metadata": {},
   "outputs": [],
   "source": [
    "#define model signature\n",
    "signature_def = signature_def_utils.build_signature_def(\n",
    "                inputs ={\"images:0\":model_input_, \"drop:0\":model_inputs_drop_},\n",
    "                outputs={\"dense1:0\":model_output_dense_2, \"dense3:0\":model_output_dense_4},\n",
    "                method_name=signature_constants.PREDICT_METHOD_NAME\n",
    "            )"
   ]
  },
  {
   "cell_type": "code",
   "execution_count": 19,
   "metadata": {},
   "outputs": [],
   "source": [
    "#build model saver with specific location and model version (2 here)\n",
    "builder = saved_model_builder.SavedModelBuilder('./models/simple_model/2')"
   ]
  },
  {
   "cell_type": "code",
   "execution_count": 20,
   "metadata": {},
   "outputs": [
    {
     "name": "stdout",
     "output_type": "stream",
     "text": [
      "INFO:tensorflow:No assets to save.\n",
      "INFO:tensorflow:No assets to write.\n"
     ]
    }
   ],
   "source": [
    "#add meta data to the graph, such as SERVING the model, model signature\n",
    "builder.add_meta_graph_and_variables(session,\n",
    "                                     [tag_constants.SERVING], \n",
    "                                     signature_def_map={signature_constants.DEFAULT_SERVING_SIGNATURE_DEF_KEY:signature_def})"
   ]
  },
  {
   "cell_type": "code",
   "execution_count": 21,
   "metadata": {},
   "outputs": [
    {
     "name": "stdout",
     "output_type": "stream",
     "text": [
      "INFO:tensorflow:SavedModel written to: ./models/simple_model/2/saved_model.pb\n"
     ]
    },
    {
     "data": {
      "text/plain": [
       "b'./models/simple_model/2/saved_model.pb'"
      ]
     },
     "execution_count": 21,
     "metadata": {},
     "output_type": "execute_result"
    }
   ],
   "source": [
    "#finally save the model\n",
    "builder.save()"
   ]
  },
  {
   "cell_type": "code",
   "execution_count": null,
   "metadata": {},
   "outputs": [],
   "source": []
  }
 ],
 "metadata": {
  "kernelspec": {
   "display_name": "Python 3",
   "language": "python",
   "name": "python3"
  },
  "language_info": {
   "codemirror_mode": {
    "name": "ipython",
    "version": 3
   },
   "file_extension": ".py",
   "mimetype": "text/x-python",
   "name": "python",
   "nbconvert_exporter": "python",
   "pygments_lexer": "ipython3",
   "version": "3.6.7"
  }
 },
 "nbformat": 4,
 "nbformat_minor": 2
}
